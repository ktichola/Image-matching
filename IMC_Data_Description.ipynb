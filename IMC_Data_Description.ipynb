{
  "metadata": {
    "kernelspec": {
      "language": "python",
      "display_name": "Python 3",
      "name": "python3"
    },
    "language_info": {
      "name": "python",
      "version": "3.10.13",
      "mimetype": "text/x-python",
      "codemirror_mode": {
        "name": "ipython",
        "version": 3
      },
      "pygments_lexer": "ipython3",
      "nbconvert_exporter": "python",
      "file_extension": ".py"
    },
    "kaggle": {
      "accelerator": "none",
      "dataSources": [
        {
          "sourceId": 71885,
          "databundleVersionId": 8143495,
          "sourceType": "competition"
        }
      ],
      "dockerImageVersionId": 30673,
      "isInternetEnabled": true,
      "language": "python",
      "sourceType": "notebook",
      "isGpuEnabled": false
    },
    "colab": {
      "name": "IMC - Data Description ",
      "provenance": [],
      "include_colab_link": true
    }
  },
  "nbformat_minor": 0,
  "nbformat": 4,
  "cells": [
    {
      "cell_type": "markdown",
      "metadata": {
        "id": "view-in-github",
        "colab_type": "text"
      },
      "source": [
        "<a href=\"https://colab.research.google.com/github/ktichola/Image-matching/blob/main/IMC_Data_Description.ipynb\" target=\"_parent\"><img src=\"https://colab.research.google.com/assets/colab-badge.svg\" alt=\"Open In Colab\"/></a>"
      ]
    },
    {
      "source": [
        "\n",
        "# IMPORTANT: RUN THIS CELL IN ORDER TO IMPORT YOUR KAGGLE DATA SOURCES\n",
        "# TO THE CORRECT LOCATION (/kaggle/input) IN YOUR NOTEBOOK,\n",
        "# THEN FEEL FREE TO DELETE THIS CELL.\n",
        "# NOTE: THIS NOTEBOOK ENVIRONMENT DIFFERS FROM KAGGLE'S PYTHON\n",
        "# ENVIRONMENT SO THERE MAY BE MISSING LIBRARIES USED BY YOUR\n",
        "# NOTEBOOK.\n",
        "\n",
        "import os\n",
        "import sys\n",
        "from tempfile import NamedTemporaryFile\n",
        "from urllib.request import urlopen\n",
        "from urllib.parse import unquote, urlparse\n",
        "from urllib.error import HTTPError\n",
        "from zipfile import ZipFile\n",
        "import tarfile\n",
        "import shutil\n",
        "\n",
        "CHUNK_SIZE = 40960\n",
        "DATA_SOURCE_MAPPING = 'image-matching-challenge-2024:https%3A%2F%2Fstorage.googleapis.com%2Fkaggle-competitions-data%2Fkaggle-v2%2F71885%2F8143495%2Fbundle%2Farchive.zip%3FX-Goog-Algorithm%3DGOOG4-RSA-SHA256%26X-Goog-Credential%3Dgcp-kaggle-com%2540kaggle-161607.iam.gserviceaccount.com%252F20240514%252Fauto%252Fstorage%252Fgoog4_request%26X-Goog-Date%3D20240514T112754Z%26X-Goog-Expires%3D259200%26X-Goog-SignedHeaders%3Dhost%26X-Goog-Signature%3Db19caa8764194503bd82c419db5b2bf1b8fb11896c183b943e59f04d752d655a70d7e6a0c3ff6ab10d11c47103798f681cae3918cff5656dd563dd4180c1aa8e9df7b888772a6ed7e6e3359be752c2a40567183323050d6253f793dea33c0f5de7f6403354743614e1579ba0d8320acc10ad54a19ed91efa2c86f099a18668645118ae1dd618407d46fecc71b2646c4edfbf518c9fd1481eedc7236a1334ed8e439e2668949b22d1998d1beb7405d35ed2178124acaedd374ac21032555fd29b502a49308cca7be1cb7eaee9cfd22f4a22703f7eb50ed8e2774f172479244ce963fd26d7c076d1dc13fd57d35bb3803fb4da0d97ac3aa3a1b92af879a88cacf3'\n",
        "\n",
        "KAGGLE_INPUT_PATH='/kaggle/input'\n",
        "KAGGLE_WORKING_PATH='/kaggle/working'\n",
        "KAGGLE_SYMLINK='kaggle'\n",
        "\n",
        "!umount /kaggle/input/ 2> /dev/null\n",
        "shutil.rmtree('/kaggle/input', ignore_errors=True)\n",
        "os.makedirs(KAGGLE_INPUT_PATH, 0o777, exist_ok=True)\n",
        "os.makedirs(KAGGLE_WORKING_PATH, 0o777, exist_ok=True)\n",
        "\n",
        "try:\n",
        "  os.symlink(KAGGLE_INPUT_PATH, os.path.join(\"..\", 'input'), target_is_directory=True)\n",
        "except FileExistsError:\n",
        "  pass\n",
        "try:\n",
        "  os.symlink(KAGGLE_WORKING_PATH, os.path.join(\"..\", 'working'), target_is_directory=True)\n",
        "except FileExistsError:\n",
        "  pass\n",
        "\n",
        "for data_source_mapping in DATA_SOURCE_MAPPING.split(','):\n",
        "    directory, download_url_encoded = data_source_mapping.split(':')\n",
        "    download_url = unquote(download_url_encoded)\n",
        "    filename = urlparse(download_url).path\n",
        "    destination_path = os.path.join(KAGGLE_INPUT_PATH, directory)\n",
        "    try:\n",
        "        with urlopen(download_url) as fileres, NamedTemporaryFile() as tfile:\n",
        "            total_length = fileres.headers['content-length']\n",
        "            print(f'Downloading {directory}, {total_length} bytes compressed')\n",
        "            dl = 0\n",
        "            data = fileres.read(CHUNK_SIZE)\n",
        "            while len(data) > 0:\n",
        "                dl += len(data)\n",
        "                tfile.write(data)\n",
        "                done = int(50 * dl / int(total_length))\n",
        "                sys.stdout.write(f\"\\r[{'=' * done}{' ' * (50-done)}] {dl} bytes downloaded\")\n",
        "                sys.stdout.flush()\n",
        "                data = fileres.read(CHUNK_SIZE)\n",
        "            if filename.endswith('.zip'):\n",
        "              with ZipFile(tfile) as zfile:\n",
        "                zfile.extractall(destination_path)\n",
        "            else:\n",
        "              with tarfile.open(tfile.name) as tarfile:\n",
        "                tarfile.extractall(destination_path)\n",
        "            print(f'\\nDownloaded and uncompressed: {directory}')\n",
        "    except HTTPError as e:\n",
        "        print(f'Failed to load (likely expired) {download_url} to path {destination_path}')\n",
        "        continue\n",
        "    except OSError as e:\n",
        "        print(f'Failed to load {download_url} to path {destination_path}')\n",
        "        continue\n",
        "\n",
        "print('Data source import complete.')\n"
      ],
      "metadata": {
        "id": "5BCLyAzb2-dK"
      },
      "cell_type": "code",
      "outputs": [],
      "execution_count": null
    },
    {
      "cell_type": "markdown",
      "source": [
        "# <div style=\"padding: 25px;color:white;margin:10;font-size:60%;text-align:left;display:fill;border-radius:10px;background-color:#FFFFFF;overflow:hidden;background-color:#87CEEB\"><b><span style='color:#FFFFFF'></span></b> <b>1. Domain Explanation</b></div>"
      ],
      "metadata": {
        "id": "WMJHxwdC2-dN"
      }
    },
    {
      "cell_type": "markdown",
      "source": [
        "#### <b><span style='color:#87CEEB'> |</span> The Previous Competition</b>"
      ],
      "metadata": {
        "id": "TegLbYu-2-df"
      }
    },
    {
      "cell_type": "markdown",
      "source": [
        "📌**[2023 Edition of the competiton](https://www.kaggle.com/competitions/image-matching-challenge-2023)**: Reconstruct 3D scenes form 2D images\n",
        "\n",
        "📌 **[2022 Edition of the competition](https://www.kaggle.com/competitions/image-matching-challenge-2022)**: Register two images from different viewpoints"
      ],
      "metadata": {
        "id": "1k0fkDB72-df"
      }
    },
    {
      "cell_type": "markdown",
      "source": [
        "#### <b><span style='color:#87CEEB'> |</span> The Goal of this Competition</b>"
      ],
      "metadata": {
        "id": "uD_gra3R2-dg"
      }
    },
    {
      "cell_type": "markdown",
      "source": [
        "<b>*Construct precise 3D maps using sets of images in diverse scenarios and environments*</b>"
      ],
      "metadata": {
        "id": "tA90YHkK2-dg"
      }
    },
    {
      "cell_type": "markdown",
      "source": [
        "#### <b><span style='color:#87CEEB'> |</span> Six Different Domains</b>"
      ],
      "metadata": {
        "id": "b7_6AZ0y2-dg"
      }
    },
    {
      "cell_type": "markdown",
      "source": [
        "- <b><span style='color:#1E90FF'> Phototourism and historical preservation</span></b>: different viewpoints, sensor types, time of day/year, and occlusions. Ancient historical sites add a unique set of challenges\n",
        "\n",
        "- <b><span style='color:#1E90FF'>Night vs day and temporal changes</span></b>: combination of day and night photographs, including poor lighting, or photographs taken months or years apart, in\n",
        "different weather\n",
        "\n",
        "- <b><span style='color:#1E90FF'>Aerial and mixed aerial-ground</span></b>:  images from drones, featuring arbitrary in-plane rotations, matched against similar images and also images taken from the ground\n",
        "\n",
        "- <b><span style='color:#1E90FF'>Repeated structures</span></b>: symmetrical objects require details to disambiguate perspective\n",
        "\n",
        "- <b><span style='color:#1E90FF'>Natural environments</span></b>: highly non-regular structures such as trees and foliage\n",
        "\n",
        "- <b><span style='color:#1E90FF'>Transparencies and reflections</span></b>: objects like glassware are lacking in texture and create reflections and specularities which pose a different set of problems"
      ],
      "metadata": {
        "id": "APF0Woat2-dg"
      }
    },
    {
      "cell_type": "markdown",
      "source": [
        "# <div style=\"padding: 25px;color:white;margin:10;font-size:60%;text-align:left;display:fill;border-radius:10px;background-color:#FFFFFF;overflow:hidden;background-color:#87CEEB\"><b><span style='color:#FFFFFF'></span></b> <b>2. Import and Read Data</b></div>"
      ],
      "metadata": {
        "id": "OKVFjTmb2-dh"
      }
    },
    {
      "cell_type": "code",
      "source": [
        "import os\n",
        "import gc\n",
        "import ctypes\n",
        "import random\n",
        "import sys\n",
        "\n",
        "from tqdm import tqdm\n",
        "from time import time, sleep\n",
        "\n",
        "from pathlib import Path\n",
        "import numpy as np, pandas as pd\n",
        "import matplotlib.pyplot as plt\n",
        "import seaborn as sns\n",
        "\n",
        "import torch\n",
        "import torch.nn as nn\n",
        "\n",
        "import warnings\n",
        "warnings.filterwarnings('ignore')\n",
        "\n",
        "SEED = 2024"
      ],
      "metadata": {
        "execution": {
          "iopub.status.busy": "2024-05-14T11:27:22.375756Z",
          "iopub.execute_input": "2024-05-14T11:27:22.376184Z"
        },
        "trusted": true,
        "id": "liRc-TbQ2-dh"
      },
      "execution_count": null,
      "outputs": []
    },
    {
      "cell_type": "markdown",
      "source": [
        "*Clean Memory*"
      ],
      "metadata": {
        "id": "iTozMeK32-dh"
      }
    },
    {
      "cell_type": "code",
      "source": [
        "def clean_memory():\n",
        "    ctypes.CDLL('libc.so.6').malloc_trim(0)\n",
        "    gc.collect()\n",
        "\n",
        "clean_memory()"
      ],
      "metadata": {
        "trusted": true,
        "id": "F8KfH9O_2-dh"
      },
      "execution_count": null,
      "outputs": []
    },
    {
      "cell_type": "markdown",
      "source": [
        "*Seed Everything*"
      ],
      "metadata": {
        "id": "DUDYlp5U2-dh"
      }
    },
    {
      "cell_type": "code",
      "source": [
        "def seed_everything():\n",
        "    random.seed(SEED)\n",
        "    os.environ['PYTHONHASHSEED'] = str(SEED)\n",
        "    np.random.seed(SEED)\n",
        "    torch.manual_seed(SEED)\n",
        "    torch.cuda.manual_seed(SEED)\n",
        "    torch.backends.cudnn.deterministric = True\n",
        "    torch.backends.cudnn.benchmark = True\n",
        "\n",
        "seed_everything()"
      ],
      "metadata": {
        "trusted": true,
        "id": "IkQcxbJj2-di"
      },
      "execution_count": null,
      "outputs": []
    },
    {
      "cell_type": "markdown",
      "source": [
        "## Dataset Description"
      ],
      "metadata": {
        "id": "pNLFa-N82-di"
      }
    },
    {
      "cell_type": "markdown",
      "source": [
        "#### <b><span style='color:#87CEEB'> |</span> [train/test]images</b>"
      ],
      "metadata": {
        "id": "HwJjpTXx2-di"
      }
    },
    {
      "cell_type": "markdown",
      "source": [
        "📌 A batch of images all taken near the same location. Some of training datasets may also contain a folder named images_full with additional images. The published test folder comprises a subset of the church scene from train and is provided solely for example purposes. The training data usually has a sequential capture ordering and significant image-to-image content overlap while the test set has limited image-to-image overlap and the image ordering is randomized."
      ],
      "metadata": {
        "id": "20IkjEpC2-di"
      }
    },
    {
      "cell_type": "markdown",
      "source": [
        "#### <b><span style='color:#87CEEB'> |</span> train/smf</b>"
      ],
      "metadata": {
        "id": "1O7pO8jk2-di"
      }
    },
    {
      "cell_type": "markdown",
      "source": [
        "📌 A 3-D reconstruction for this batch of images, which can be opened with colmap, the 3-D structure-from-motion library bundled with this competition"
      ],
      "metadata": {
        "id": "Q0oHWX8c2-di"
      }
    },
    {
      "cell_type": "markdown",
      "source": [
        "#### <b><span style='color:#87CEEB'> |</span> train/LICENSE.txt</b>"
      ],
      "metadata": {
        "id": "TkQaiThN2-di"
      }
    },
    {
      "cell_type": "markdown",
      "source": [
        "📌 The license for this dataset"
      ],
      "metadata": {
        "id": "T710jJWl2-di"
      }
    },
    {
      "cell_type": "markdown",
      "source": [
        "#### <b><span style='color:#87CEEB'> |</span> train_labels.csv</b>"
      ],
      "metadata": {
        "id": "PYrmk9Pa2-di"
      }
    },
    {
      "cell_type": "markdown",
      "source": [
        "- `dataset`: The unique identifier for the dataset\n",
        "\n",
        "- `scene`: The unique identifier for the scene\n",
        "\n",
        "- `image_name`:  The image filename\n",
        "\n",
        "- `rotation_matrix`: The first target column. A 3X3 matrix, flattened into a vector in row-major convention with values separated by ;\n",
        "\n",
        "- `translation_vetcor`: The second target column. A 3-D dimensional vetcor, with values separated by ;"
      ],
      "metadata": {
        "id": "qYOx4jvP2-di"
      }
    },
    {
      "cell_type": "code",
      "source": [
        "train_labels = pd.read_csv('/kaggle/input/image-matching-challenge-2024/train/train_labels.csv')\n",
        "print('Shape of train_labels:', train_labels.shape)\n",
        "print(display(train_labels))"
      ],
      "metadata": {
        "trusted": true,
        "id": "PcJe0sN92-dj"
      },
      "execution_count": null,
      "outputs": []
    },
    {
      "cell_type": "code",
      "source": [
        "plt.figure(figsize=(12,6))\n",
        "\n",
        "plt.subplot(1,2,1)\n",
        "sns.countplot(x=train_labels['dataset'])\n",
        "plt.xticks(rotation=90)\n",
        "plt.title(\"Distribution of Dataset\")\n",
        "\n",
        "\n",
        "plt.subplot(1,2,2)\n",
        "sns.countplot(x=train_labels['scene'])\n",
        "plt.xticks(rotation=90)\n",
        "plt.title('Distribution of Scene')\n",
        "plt.show()"
      ],
      "metadata": {
        "trusted": true,
        "id": "xxhpoSXR2-dj"
      },
      "execution_count": null,
      "outputs": []
    },
    {
      "cell_type": "code",
      "source": [
        "train_labels.loc[train_labels['scene'] != train_labels['dataset']]"
      ],
      "metadata": {
        "trusted": true,
        "id": "3NQ3mqJO2-dj"
      },
      "execution_count": null,
      "outputs": []
    },
    {
      "cell_type": "markdown",
      "source": [
        "#### <b><span style='color:#87CEEB'> |</span> categories.csv</b>"
      ],
      "metadata": {
        "id": "Zws2PnYo2-dj"
      }
    },
    {
      "cell_type": "markdown",
      "source": [
        "- **`chruch`**: <b><span style='color:#1E90FF'>symmetries-and-repeats</span></b>\n",
        "\n",
        "- **`dioscuri`**: <b><span style='color:#1E90FF'>historical_pressrvation;air-to-ground</span></b>\n",
        "\n",
        "- **`lizard`**: <b><span style='color:#1E90FF'>day-night;temporal</span></b>\n",
        "\n",
        "- **`multi-temporal-temple-baalshamin`**: <b><span style='color:#1E90FF'>historical_presservation;temporal</span></b>\n",
        "\n",
        "- **`pond`**: <b><span style='color:#1E90FF'>day-night;temporal;nature</span></b>\n",
        "\n",
        "- **`transp_obj_glass_cup`**: <b><span style='color:#1E90FF'>symmetries-and-repeats;transparent</span></b>\n",
        "\n",
        "- **`transp_obj_glass_cylinder`**: <b><span style='color:#1E90FF'>symmetries-and-repeats;transparent</span></b>"
      ],
      "metadata": {
        "id": "hTd3w6qn2-dj"
      }
    },
    {
      "cell_type": "code",
      "source": [
        "category = pd.read_csv('/kaggle/input/image-matching-challenge-2024/train/categories.csv')\n",
        "\n",
        "explode = (0.01, 0.01, 0.01, 0.01, 0.01, 0.01)\n",
        "labels = category['categories'].unique()\n",
        "\n",
        "plt.figure(figsize=(12,6))\n",
        "plt.title(\"Distribution of Category\")\n",
        "plt.pie(category['categories'].value_counts(), labels=labels, explode=explode, autopct='%.1f%%')\n",
        "plt.show()"
      ],
      "metadata": {
        "trusted": true,
        "id": "cRzFVpBY2-dj"
      },
      "execution_count": null,
      "outputs": []
    },
    {
      "cell_type": "markdown",
      "source": [
        "#### <b><span style='color:#87CEEB'> |</span> sample_submission.csv</b>"
      ],
      "metadata": {
        "id": "aXWtsqoW2-dj"
      }
    },
    {
      "cell_type": "markdown",
      "source": [
        "- `image_path`: The image filename, including the path\n",
        "\n",
        "- `dataset`: The unique identifier for the dataset\n",
        "\n",
        "- `scene`:  The unique identifier for the scene\n",
        "\n",
        "- `rotation_matrix`: The first target column. A 3X3 matrix, flattened into a vector in row-major convention with values separated by ;\n",
        "\n",
        "- `translation_vetcor`: The second target column. A 3-D dimensional vetcor, with values separated by ;"
      ],
      "metadata": {
        "id": "UZh5Ccgn2-dj"
      }
    },
    {
      "cell_type": "code",
      "source": [
        "sample_submission = pd.read_csv('/kaggle/input/image-matching-challenge-2024/sample_submission.csv')\n",
        "print(display(sample_submission.head()))"
      ],
      "metadata": {
        "trusted": true,
        "id": "lXHzdHt92-dj"
      },
      "execution_count": null,
      "outputs": []
    }
  ]
}