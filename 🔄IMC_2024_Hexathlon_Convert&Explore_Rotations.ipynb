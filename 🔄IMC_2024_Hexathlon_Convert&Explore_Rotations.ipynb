{
  "metadata": {
    "kernelspec": {
      "language": "python",
      "display_name": "Python 3",
      "name": "python3"
    },
    "language_info": {
      "name": "python",
      "version": "3.10.13",
      "mimetype": "text/x-python",
      "codemirror_mode": {
        "name": "ipython",
        "version": 3
      },
      "pygments_lexer": "ipython3",
      "nbconvert_exporter": "python",
      "file_extension": ".py"
    },
    "kaggle": {
      "accelerator": "none",
      "dataSources": [
        {
          "sourceId": 71885,
          "databundleVersionId": 8143495,
          "sourceType": "competition"
        }
      ],
      "dockerImageVersionId": 30673,
      "isInternetEnabled": true,
      "language": "python",
      "sourceType": "notebook",
      "isGpuEnabled": false
    },
    "colab": {
      "name": "🔄IMC 2024 Hexathlon - Convert&Explore Rotations",
      "provenance": [],
      "include_colab_link": true
    }
  },
  "nbformat_minor": 0,
  "nbformat": 4,
  "cells": [
    {
      "cell_type": "markdown",
      "metadata": {
        "id": "view-in-github",
        "colab_type": "text"
      },
      "source": [
        "<a href=\"https://colab.research.google.com/github/ktichola/Image-matching/blob/main/%F0%9F%94%84IMC_2024_Hexathlon_Convert%26Explore_Rotations.ipynb\" target=\"_parent\"><img src=\"https://colab.research.google.com/assets/colab-badge.svg\" alt=\"Open In Colab\"/></a>"
      ]
    },
    {
      "source": [
        "\n",
        "# IMPORTANT: RUN THIS CELL IN ORDER TO IMPORT YOUR KAGGLE DATA SOURCES\n",
        "# TO THE CORRECT LOCATION (/kaggle/input) IN YOUR NOTEBOOK,\n",
        "# THEN FEEL FREE TO DELETE THIS CELL.\n",
        "# NOTE: THIS NOTEBOOK ENVIRONMENT DIFFERS FROM KAGGLE'S PYTHON\n",
        "# ENVIRONMENT SO THERE MAY BE MISSING LIBRARIES USED BY YOUR\n",
        "# NOTEBOOK.\n",
        "\n",
        "import os\n",
        "import sys\n",
        "from tempfile import NamedTemporaryFile\n",
        "from urllib.request import urlopen\n",
        "from urllib.parse import unquote, urlparse\n",
        "from urllib.error import HTTPError\n",
        "from zipfile import ZipFile\n",
        "import tarfile\n",
        "import shutil\n",
        "\n",
        "CHUNK_SIZE = 40960\n",
        "DATA_SOURCE_MAPPING = 'image-matching-challenge-2024:https%3A%2F%2Fstorage.googleapis.com%2Fkaggle-competitions-data%2Fkaggle-v2%2F71885%2F8143495%2Fbundle%2Farchive.zip%3FX-Goog-Algorithm%3DGOOG4-RSA-SHA256%26X-Goog-Credential%3Dgcp-kaggle-com%2540kaggle-161607.iam.gserviceaccount.com%252F20240514%252Fauto%252Fstorage%252Fgoog4_request%26X-Goog-Date%3D20240514T160847Z%26X-Goog-Expires%3D259200%26X-Goog-SignedHeaders%3Dhost%26X-Goog-Signature%3D013ce9cbc77d35394210d48048a4385b8ac0d22cb716b380e933d81c0316e09ad8380057310e0adbcdc13b82cd933d7f81a7d334c88c28aa49146b58b256e06bc057bba8887aedf84fd7e43a85ba49e42d3d198409621d424384a88fe9d59dd35b1cadf08d973f97a6b988b0b3326095343eb2c840098e081655488cf6756f748a38de285c834dbedcaadd1a25328dbcc5a89302fd880163cf5e1b523b46e6fe1d4ca4715ea1c335f727b8d6584714309a149a9213bb54f8d343482693952b018763910099710bb42cef44ffbbc19b1db10f6631b8c6e42562913fff286e9c027f6df97fa3947f73a9f3377c913639e59717cbe0a886bae1ed5670be655aeb6b'\n",
        "\n",
        "KAGGLE_INPUT_PATH='/kaggle/input'\n",
        "KAGGLE_WORKING_PATH='/kaggle/working'\n",
        "KAGGLE_SYMLINK='kaggle'\n",
        "\n",
        "!umount /kaggle/input/ 2> /dev/null\n",
        "shutil.rmtree('/kaggle/input', ignore_errors=True)\n",
        "os.makedirs(KAGGLE_INPUT_PATH, 0o777, exist_ok=True)\n",
        "os.makedirs(KAGGLE_WORKING_PATH, 0o777, exist_ok=True)\n",
        "\n",
        "try:\n",
        "  os.symlink(KAGGLE_INPUT_PATH, os.path.join(\"..\", 'input'), target_is_directory=True)\n",
        "except FileExistsError:\n",
        "  pass\n",
        "try:\n",
        "  os.symlink(KAGGLE_WORKING_PATH, os.path.join(\"..\", 'working'), target_is_directory=True)\n",
        "except FileExistsError:\n",
        "  pass\n",
        "\n",
        "for data_source_mapping in DATA_SOURCE_MAPPING.split(','):\n",
        "    directory, download_url_encoded = data_source_mapping.split(':')\n",
        "    download_url = unquote(download_url_encoded)\n",
        "    filename = urlparse(download_url).path\n",
        "    destination_path = os.path.join(KAGGLE_INPUT_PATH, directory)\n",
        "    try:\n",
        "        with urlopen(download_url) as fileres, NamedTemporaryFile() as tfile:\n",
        "            total_length = fileres.headers['content-length']\n",
        "            print(f'Downloading {directory}, {total_length} bytes compressed')\n",
        "            dl = 0\n",
        "            data = fileres.read(CHUNK_SIZE)\n",
        "            while len(data) > 0:\n",
        "                dl += len(data)\n",
        "                tfile.write(data)\n",
        "                done = int(50 * dl / int(total_length))\n",
        "                sys.stdout.write(f\"\\r[{'=' * done}{' ' * (50-done)}] {dl} bytes downloaded\")\n",
        "                sys.stdout.flush()\n",
        "                data = fileres.read(CHUNK_SIZE)\n",
        "            if filename.endswith('.zip'):\n",
        "              with ZipFile(tfile) as zfile:\n",
        "                zfile.extractall(destination_path)\n",
        "            else:\n",
        "              with tarfile.open(tfile.name) as tarfile:\n",
        "                tarfile.extractall(destination_path)\n",
        "            print(f'\\nDownloaded and uncompressed: {directory}')\n",
        "    except HTTPError as e:\n",
        "        print(f'Failed to load (likely expired) {download_url} to path {destination_path}')\n",
        "        continue\n",
        "    except OSError as e:\n",
        "        print(f'Failed to load {download_url} to path {destination_path}')\n",
        "        continue\n",
        "\n",
        "print('Data source import complete.')\n"
      ],
      "metadata": {
        "id": "r482fUIs3Res"
      },
      "cell_type": "code",
      "outputs": [],
      "execution_count": null
    },
    {
      "cell_type": "markdown",
      "source": [
        "## In this notebook we show how to convert the rotations to different representations and visualize them in an interactive way.\n",
        "\n",
        "## 📝Table of Contents\n",
        "* [Import and first glance](#import)\n",
        "* [Conversions](#conversions)\n",
        "* [EDA of features](#EDA)\n",
        "* [Interactive Plots](#inter)"
      ],
      "metadata": {
        "id": "gJNgl7Oq3Rev"
      }
    },
    {
      "cell_type": "code",
      "source": [
        "# packages\n",
        "\n",
        "# standard\n",
        "import numpy as np\n",
        "import pandas as pd\n",
        "\n",
        "# plots\n",
        "import matplotlib.pyplot as plt\n",
        "import plotly.express as px\n",
        "import seaborn as sns"
      ],
      "metadata": {
        "_uuid": "8f2839f25d086af736a60e9eeb907d3b93b6e0e5",
        "_cell_guid": "b1076dfc-b9ad-4769-8c92-a6c4dae69d19",
        "execution": {
          "iopub.status.busy": "2024-05-14T16:08:05.974558Z",
          "iopub.execute_input": "2024-05-14T16:08:05.975009Z",
          "iopub.status.idle": "2024-05-14T16:08:09.393978Z",
          "shell.execute_reply.started": "2024-05-14T16:08:05.974972Z",
          "shell.execute_reply": "2024-05-14T16:08:09.393005Z"
        },
        "trusted": true,
        "id": "EsppeTbe3Rew"
      },
      "execution_count": null,
      "outputs": []
    },
    {
      "cell_type": "markdown",
      "source": [
        "#### Using specific scipy package for transformations/rotations, see here: https://docs.scipy.org/doc/scipy/reference/generated/scipy.spatial.transform.Rotation.html"
      ],
      "metadata": {
        "id": "LZpmSy_J3Rew"
      }
    },
    {
      "cell_type": "code",
      "source": [
        "# import rotation package\n",
        "from scipy.spatial.transform import Rotation as R"
      ],
      "metadata": {
        "execution": {
          "iopub.status.busy": "2024-05-14T16:08:09.396305Z",
          "iopub.execute_input": "2024-05-14T16:08:09.396823Z",
          "iopub.status.idle": "2024-05-14T16:08:09.402449Z",
          "shell.execute_reply.started": "2024-05-14T16:08:09.396793Z",
          "shell.execute_reply": "2024-05-14T16:08:09.401054Z"
        },
        "trusted": true,
        "id": "t7alpLBK3Rex"
      },
      "execution_count": null,
      "outputs": []
    },
    {
      "cell_type": "code",
      "source": [
        "# configs\n",
        "pd.set_option('display.max_columns', None) # we want to display all columns in this notebook\n",
        "pd.set_option('display.max_colwidth', None) # columns can be as wide as necessary to show full content\n",
        "\n",
        "# aesthetics\n",
        "default_color_1 = 'darkblue'\n",
        "default_color_2 = 'darkgreen'\n",
        "default_color_3 = 'darkred'"
      ],
      "metadata": {
        "execution": {
          "iopub.status.busy": "2024-05-14T16:08:09.404254Z",
          "iopub.execute_input": "2024-05-14T16:08:09.405108Z",
          "iopub.status.idle": "2024-05-14T16:08:09.427334Z",
          "shell.execute_reply.started": "2024-05-14T16:08:09.405068Z",
          "shell.execute_reply": "2024-05-14T16:08:09.42615Z"
        },
        "trusted": true,
        "id": "-AzluIVV3Rex"
      },
      "execution_count": null,
      "outputs": []
    },
    {
      "cell_type": "markdown",
      "source": [
        "<a id='import'></a>\n",
        "# Import and first glance"
      ],
      "metadata": {
        "id": "Wi0QbUYS3Rex"
      }
    },
    {
      "cell_type": "code",
      "source": [
        "# load training data table\n",
        "df_train = pd.read_csv('../input/image-matching-challenge-2024/train/train_labels.csv')\n",
        "df_train.head()"
      ],
      "metadata": {
        "execution": {
          "iopub.status.busy": "2024-05-14T16:08:09.42979Z",
          "iopub.execute_input": "2024-05-14T16:08:09.430664Z",
          "iopub.status.idle": "2024-05-14T16:08:09.494265Z",
          "shell.execute_reply.started": "2024-05-14T16:08:09.430631Z",
          "shell.execute_reply": "2024-05-14T16:08:09.493143Z"
        },
        "trusted": true,
        "id": "EBi9P50i3Rex",
        "outputId": "2c45410d-184e-4b3d-d6f5-e2f93c38aa4b"
      },
      "execution_count": null,
      "outputs": [
        {
          "execution_count": 4,
          "output_type": "execute_result",
          "data": {
            "text/plain": "  image_name  \\\n0     00.png   \n1     01.png   \n2     02.png   \n3     03.png   \n4     04.png   \n\n                                                                                                                                                                            rotation_matrix  \\\n0      0.999017467386748;-0.01951432487219089;0.03979058910031915;0.03580410529229767;-0.17374693099514127;-0.9841392533650855;0.026118305848310826;0.9845969708944632;-0.17287752602655398   \n1  0.999147719991382;-0.021624129414769648;0.035160072000451896;0.03507100839198339;-0.004484366109474225;-0.9993747619541763;0.021768279821637208;0.9997561140036355;-0.003722164149712992   \n2       0.9992527616183833;-0.02402019259931326;0.030281161561702366;0.03401506827119704;0.17446571991611926;-0.9840755497951647;0.018354659586596225;0.9843702265517997;0.1751524009250745   \n3         0.9993946226667176;-0.02356062921667625;0.025598533859643915;0.03207163399533079;0.3387496556434208;-0.9403297725236256;0.013483266581899838;0.9405815050022929;0.339300212157174   \n4      0.9995276708105233;-0.02256816267742356;0.020859370015773024;0.029327975512817118;0.49769391270506835;-0.8668567581259542;0.009181782855697686;0.8670590794690317;0.4981207158650458   \n\n                                               translation_vector  \\\n0  -0.011700149127917355;0.018812528601332625;0.39292089450723033   \n1   -0.011610785964818585;0.016710808069866724;0.3904348025368086   \n2   -0.011589797430545654;0.014113680489915202;0.3883381399691822   \n3  -0.011471598819000773;0.011325953000912126;0.38663455605386887   \n4  -0.011389007765655301;0.008237801582322509;0.38546171231233306   \n\n                                                                              calibration_matrix  \\\n0  5809.066058292364;0.0;2496.9582994472266;0.0;5809.066058292364;1722.4949763575241;0.0;0.0;1.0   \n1  5809.066058292364;0.0;2496.9582994472266;0.0;5809.066058292364;1722.4949763575241;0.0;0.0;1.0   \n2  5809.066058292364;0.0;2496.9582994472266;0.0;5809.066058292364;1722.4949763575241;0.0;0.0;1.0   \n3  5809.066058292364;0.0;2496.9582994472266;0.0;5809.066058292364;1722.4949763575241;0.0;0.0;1.0   \n4  5809.066058292364;0.0;2496.9582994472266;0.0;5809.066058292364;1722.4949763575241;0.0;0.0;1.0   \n\n                dataset                 scene  \n0  transp_obj_glass_cup  transp_obj_glass_cup  \n1  transp_obj_glass_cup  transp_obj_glass_cup  \n2  transp_obj_glass_cup  transp_obj_glass_cup  \n3  transp_obj_glass_cup  transp_obj_glass_cup  \n4  transp_obj_glass_cup  transp_obj_glass_cup  ",
            "text/html": "<div>\n<style scoped>\n    .dataframe tbody tr th:only-of-type {\n        vertical-align: middle;\n    }\n\n    .dataframe tbody tr th {\n        vertical-align: top;\n    }\n\n    .dataframe thead th {\n        text-align: right;\n    }\n</style>\n<table border=\"1\" class=\"dataframe\">\n  <thead>\n    <tr style=\"text-align: right;\">\n      <th></th>\n      <th>image_name</th>\n      <th>rotation_matrix</th>\n      <th>translation_vector</th>\n      <th>calibration_matrix</th>\n      <th>dataset</th>\n      <th>scene</th>\n    </tr>\n  </thead>\n  <tbody>\n    <tr>\n      <th>0</th>\n      <td>00.png</td>\n      <td>0.999017467386748;-0.01951432487219089;0.03979058910031915;0.03580410529229767;-0.17374693099514127;-0.9841392533650855;0.026118305848310826;0.9845969708944632;-0.17287752602655398</td>\n      <td>-0.011700149127917355;0.018812528601332625;0.39292089450723033</td>\n      <td>5809.066058292364;0.0;2496.9582994472266;0.0;5809.066058292364;1722.4949763575241;0.0;0.0;1.0</td>\n      <td>transp_obj_glass_cup</td>\n      <td>transp_obj_glass_cup</td>\n    </tr>\n    <tr>\n      <th>1</th>\n      <td>01.png</td>\n      <td>0.999147719991382;-0.021624129414769648;0.035160072000451896;0.03507100839198339;-0.004484366109474225;-0.9993747619541763;0.021768279821637208;0.9997561140036355;-0.003722164149712992</td>\n      <td>-0.011610785964818585;0.016710808069866724;0.3904348025368086</td>\n      <td>5809.066058292364;0.0;2496.9582994472266;0.0;5809.066058292364;1722.4949763575241;0.0;0.0;1.0</td>\n      <td>transp_obj_glass_cup</td>\n      <td>transp_obj_glass_cup</td>\n    </tr>\n    <tr>\n      <th>2</th>\n      <td>02.png</td>\n      <td>0.9992527616183833;-0.02402019259931326;0.030281161561702366;0.03401506827119704;0.17446571991611926;-0.9840755497951647;0.018354659586596225;0.9843702265517997;0.1751524009250745</td>\n      <td>-0.011589797430545654;0.014113680489915202;0.3883381399691822</td>\n      <td>5809.066058292364;0.0;2496.9582994472266;0.0;5809.066058292364;1722.4949763575241;0.0;0.0;1.0</td>\n      <td>transp_obj_glass_cup</td>\n      <td>transp_obj_glass_cup</td>\n    </tr>\n    <tr>\n      <th>3</th>\n      <td>03.png</td>\n      <td>0.9993946226667176;-0.02356062921667625;0.025598533859643915;0.03207163399533079;0.3387496556434208;-0.9403297725236256;0.013483266581899838;0.9405815050022929;0.339300212157174</td>\n      <td>-0.011471598819000773;0.011325953000912126;0.38663455605386887</td>\n      <td>5809.066058292364;0.0;2496.9582994472266;0.0;5809.066058292364;1722.4949763575241;0.0;0.0;1.0</td>\n      <td>transp_obj_glass_cup</td>\n      <td>transp_obj_glass_cup</td>\n    </tr>\n    <tr>\n      <th>4</th>\n      <td>04.png</td>\n      <td>0.9995276708105233;-0.02256816267742356;0.020859370015773024;0.029327975512817118;0.49769391270506835;-0.8668567581259542;0.009181782855697686;0.8670590794690317;0.4981207158650458</td>\n      <td>-0.011389007765655301;0.008237801582322509;0.38546171231233306</td>\n      <td>5809.066058292364;0.0;2496.9582994472266;0.0;5809.066058292364;1722.4949763575241;0.0;0.0;1.0</td>\n      <td>transp_obj_glass_cup</td>\n      <td>transp_obj_glass_cup</td>\n    </tr>\n  </tbody>\n</table>\n</div>"
          },
          "metadata": {}
        }
      ]
    },
    {
      "cell_type": "code",
      "source": [
        "# image names are NOT unique\n",
        "df_train.image_name.value_counts()"
      ],
      "metadata": {
        "execution": {
          "iopub.status.busy": "2024-05-14T16:08:09.495431Z",
          "iopub.execute_input": "2024-05-14T16:08:09.495743Z",
          "iopub.status.idle": "2024-05-14T16:08:09.513004Z",
          "shell.execute_reply.started": "2024-05-14T16:08:09.495717Z",
          "shell.execute_reply": "2024-05-14T16:08:09.511742Z"
        },
        "trusted": true,
        "id": "VcbKMYaT3Rey",
        "outputId": "af473db2-e278-45e3-d414-afe7de3b252c"
      },
      "execution_count": null,
      "outputs": [
        {
          "execution_count": 5,
          "output_type": "execute_result",
          "data": {
            "text/plain": "image_name\n00013.png       3\n00011.png       3\n00068.png       3\n00009.png       3\n00067.png       3\n               ..\n01041.png       1\n01040.png       1\n01038.png       1\n01037.png       1\nimg_0055.png    1\nName: count, Length: 1338, dtype: int64"
          },
          "metadata": {}
        }
      ]
    },
    {
      "cell_type": "code",
      "source": [
        "# example:\n",
        "df_train[df_train.image_name=='00011.png']"
      ],
      "metadata": {
        "execution": {
          "iopub.status.busy": "2024-05-14T16:08:09.514523Z",
          "iopub.execute_input": "2024-05-14T16:08:09.514919Z",
          "iopub.status.idle": "2024-05-14T16:08:09.532906Z",
          "shell.execute_reply.started": "2024-05-14T16:08:09.514877Z",
          "shell.execute_reply": "2024-05-14T16:08:09.531178Z"
        },
        "trusted": true,
        "id": "MEWVz4e23Rez",
        "outputId": "79497f5c-cb95-4176-ae4e-10b834abc6d1"
      },
      "execution_count": null,
      "outputs": [
        {
          "execution_count": 6,
          "output_type": "execute_result",
          "data": {
            "text/plain": "     image_name  \\\n510   00011.png   \n1547  00011.png   \n2070  00011.png   \n\n                                                                                                                                                                       rotation_matrix  \\\n510   0.818333800438463;-0.2976050506491451;0.49169200205826163;0.10828787539620295;0.9200135666820614;0.37662816299784163;-0.5644497560475319;-0.25496327372598604;0.7851052171198519   \n1547    -0.7663419257866364;-0.509538652867604;0.39126770121682314;0.362500200664674;0.15985444436032548;0.9181721849066891;-0.5303900991720161;0.8454684605898195;0.06220470117426924   \n2070   -0.422747076932537;-0.338330246781646;-0.8407244215898969;0.33843022666396516;0.8016446836177851;-0.492778634792052;0.8406841800730959;-0.4928472839937458;-0.22439176463233945   \n\n                                              translation_vector  \\\n510   -0.8737248891553905;-0.4725279502538612;1.5586160150928106   \n1547    4.946315353455534;-16.135895107247393;18.500788691660265   \n2070      27.773105439252546;21.02019717121849;67.09744874947172   \n\n                                                         calibration_matrix  \\\n510     714.5348544605648;0.0;384.0;0.0;714.5348544605648;512.0;0.0;0.0;1.0   \n1547    874.6108125755727;0.0;288.0;0.0;874.6108125755727;512.0;0.0;0.0;1.0   \n2070  2209.8841784185324;0.0;384.0;0.0;2209.8841784185324;512.0;0.0;0.0;1.0   \n\n     dataset   scene  \n510   lizard  lizard  \n1547    pond    pond  \n2070  church  church  ",
            "text/html": "<div>\n<style scoped>\n    .dataframe tbody tr th:only-of-type {\n        vertical-align: middle;\n    }\n\n    .dataframe tbody tr th {\n        vertical-align: top;\n    }\n\n    .dataframe thead th {\n        text-align: right;\n    }\n</style>\n<table border=\"1\" class=\"dataframe\">\n  <thead>\n    <tr style=\"text-align: right;\">\n      <th></th>\n      <th>image_name</th>\n      <th>rotation_matrix</th>\n      <th>translation_vector</th>\n      <th>calibration_matrix</th>\n      <th>dataset</th>\n      <th>scene</th>\n    </tr>\n  </thead>\n  <tbody>\n    <tr>\n      <th>510</th>\n      <td>00011.png</td>\n      <td>0.818333800438463;-0.2976050506491451;0.49169200205826163;0.10828787539620295;0.9200135666820614;0.37662816299784163;-0.5644497560475319;-0.25496327372598604;0.7851052171198519</td>\n      <td>-0.8737248891553905;-0.4725279502538612;1.5586160150928106</td>\n      <td>714.5348544605648;0.0;384.0;0.0;714.5348544605648;512.0;0.0;0.0;1.0</td>\n      <td>lizard</td>\n      <td>lizard</td>\n    </tr>\n    <tr>\n      <th>1547</th>\n      <td>00011.png</td>\n      <td>-0.7663419257866364;-0.509538652867604;0.39126770121682314;0.362500200664674;0.15985444436032548;0.9181721849066891;-0.5303900991720161;0.8454684605898195;0.06220470117426924</td>\n      <td>4.946315353455534;-16.135895107247393;18.500788691660265</td>\n      <td>874.6108125755727;0.0;288.0;0.0;874.6108125755727;512.0;0.0;0.0;1.0</td>\n      <td>pond</td>\n      <td>pond</td>\n    </tr>\n    <tr>\n      <th>2070</th>\n      <td>00011.png</td>\n      <td>-0.422747076932537;-0.338330246781646;-0.8407244215898969;0.33843022666396516;0.8016446836177851;-0.492778634792052;0.8406841800730959;-0.4928472839937458;-0.22439176463233945</td>\n      <td>27.773105439252546;21.02019717121849;67.09744874947172</td>\n      <td>2209.8841784185324;0.0;384.0;0.0;2209.8841784185324;512.0;0.0;0.0;1.0</td>\n      <td>church</td>\n      <td>church</td>\n    </tr>\n  </tbody>\n</table>\n</div>"
          },
          "metadata": {}
        }
      ]
    },
    {
      "cell_type": "code",
      "source": [
        "# crosstab of dataset and scene\n",
        "pd.crosstab(df_train.dataset, df_train.scene)"
      ],
      "metadata": {
        "execution": {
          "iopub.status.busy": "2024-05-14T16:08:09.534512Z",
          "iopub.execute_input": "2024-05-14T16:08:09.535542Z",
          "iopub.status.idle": "2024-05-14T16:08:09.573334Z",
          "shell.execute_reply.started": "2024-05-14T16:08:09.535509Z",
          "shell.execute_reply": "2024-05-14T16:08:09.572088Z"
        },
        "trusted": true,
        "id": "NJ7Avumg3Rez",
        "outputId": "e1509687-2e6d-46a6-873a-03957e7298a3"
      },
      "execution_count": null,
      "outputs": [
        {
          "execution_count": 7,
          "output_type": "execute_result",
          "data": {
            "text/plain": "scene                             church  dioscuri  lizard  \\\ndataset                                                      \nchurch                               110         0       0   \ndioscuri                               0        70       0   \nlizard                                 0         0     711   \nmulti-temporal-temple-baalshamin       0         0       0   \npond                                   0         0       0   \ntransp_obj_glass_cup                   0         0       0   \ntransp_obj_glass_cylinder              0         0       0   \n\nscene                             multi-temporal-temple-baalshamin  pond  \\\ndataset                                                                    \nchurch                                                           0     0   \ndioscuri                                                         0     0   \nlizard                                                           0     0   \nmulti-temporal-temple-baalshamin                                68     0   \npond                                                             0  1117   \ntransp_obj_glass_cup                                             0     0   \ntransp_obj_glass_cylinder                                        0     0   \n\nscene                             transp_obj_glass_cup  \\\ndataset                                                  \nchurch                                               0   \ndioscuri                                             0   \nlizard                                               0   \nmulti-temporal-temple-baalshamin                     0   \npond                                                 0   \ntransp_obj_glass_cup                                36   \ntransp_obj_glass_cylinder                            0   \n\nscene                             transp_obj_glass_cylinder  \ndataset                                                      \nchurch                                                    0  \ndioscuri                                                  0  \nlizard                                                    0  \nmulti-temporal-temple-baalshamin                          0  \npond                                                      0  \ntransp_obj_glass_cup                                      0  \ntransp_obj_glass_cylinder                                36  ",
            "text/html": "<div>\n<style scoped>\n    .dataframe tbody tr th:only-of-type {\n        vertical-align: middle;\n    }\n\n    .dataframe tbody tr th {\n        vertical-align: top;\n    }\n\n    .dataframe thead th {\n        text-align: right;\n    }\n</style>\n<table border=\"1\" class=\"dataframe\">\n  <thead>\n    <tr style=\"text-align: right;\">\n      <th>scene</th>\n      <th>church</th>\n      <th>dioscuri</th>\n      <th>lizard</th>\n      <th>multi-temporal-temple-baalshamin</th>\n      <th>pond</th>\n      <th>transp_obj_glass_cup</th>\n      <th>transp_obj_glass_cylinder</th>\n    </tr>\n    <tr>\n      <th>dataset</th>\n      <th></th>\n      <th></th>\n      <th></th>\n      <th></th>\n      <th></th>\n      <th></th>\n      <th></th>\n    </tr>\n  </thead>\n  <tbody>\n    <tr>\n      <th>church</th>\n      <td>110</td>\n      <td>0</td>\n      <td>0</td>\n      <td>0</td>\n      <td>0</td>\n      <td>0</td>\n      <td>0</td>\n    </tr>\n    <tr>\n      <th>dioscuri</th>\n      <td>0</td>\n      <td>70</td>\n      <td>0</td>\n      <td>0</td>\n      <td>0</td>\n      <td>0</td>\n      <td>0</td>\n    </tr>\n    <tr>\n      <th>lizard</th>\n      <td>0</td>\n      <td>0</td>\n      <td>711</td>\n      <td>0</td>\n      <td>0</td>\n      <td>0</td>\n      <td>0</td>\n    </tr>\n    <tr>\n      <th>multi-temporal-temple-baalshamin</th>\n      <td>0</td>\n      <td>0</td>\n      <td>0</td>\n      <td>68</td>\n      <td>0</td>\n      <td>0</td>\n      <td>0</td>\n    </tr>\n    <tr>\n      <th>pond</th>\n      <td>0</td>\n      <td>0</td>\n      <td>0</td>\n      <td>0</td>\n      <td>1117</td>\n      <td>0</td>\n      <td>0</td>\n    </tr>\n    <tr>\n      <th>transp_obj_glass_cup</th>\n      <td>0</td>\n      <td>0</td>\n      <td>0</td>\n      <td>0</td>\n      <td>0</td>\n      <td>36</td>\n      <td>0</td>\n    </tr>\n    <tr>\n      <th>transp_obj_glass_cylinder</th>\n      <td>0</td>\n      <td>0</td>\n      <td>0</td>\n      <td>0</td>\n      <td>0</td>\n      <td>0</td>\n      <td>36</td>\n    </tr>\n  </tbody>\n</table>\n</div>"
          },
          "metadata": {}
        }
      ]
    },
    {
      "cell_type": "markdown",
      "source": [
        "#### Features \"dataset\" and \"scene\" are identical here."
      ],
      "metadata": {
        "id": "hH6-zRBY3Re0"
      }
    },
    {
      "cell_type": "markdown",
      "source": [
        "<a id='conversions'></a>\n",
        "# Conversions"
      ],
      "metadata": {
        "id": "tK1OAr9r3Re0"
      }
    },
    {
      "cell_type": "code",
      "source": [
        "# convert input string to matrix\n",
        "def get_rotation_matrix_from_string(i_matrix_string):\n",
        "    # replace semicolon by comma\n",
        "    my_string = i_matrix_string.replace(';',',')\n",
        "    # split to list\n",
        "    my_list = my_string.split(',')\n",
        "    # convert each element from string to double\n",
        "    my_list = [float(s) for s in my_list]\n",
        "    # convert list to array\n",
        "    my_array = np.array(my_list)\n",
        "    # convert array to 3x3-matrix\n",
        "    rot_matrix = np.asmatrix(my_array.reshape(3,3))\n",
        "    return rot_matrix"
      ],
      "metadata": {
        "execution": {
          "iopub.status.busy": "2024-05-14T16:08:09.57536Z",
          "iopub.execute_input": "2024-05-14T16:08:09.576104Z",
          "iopub.status.idle": "2024-05-14T16:08:09.583526Z",
          "shell.execute_reply.started": "2024-05-14T16:08:09.575943Z",
          "shell.execute_reply": "2024-05-14T16:08:09.582126Z"
        },
        "trusted": true,
        "id": "WyQ5fJYZ3Re0"
      },
      "execution_count": null,
      "outputs": []
    },
    {
      "cell_type": "code",
      "source": [
        "# convert input string to vector\n",
        "def get_translation_from_string(i_vector_string):\n",
        "    # replace semicolon by comma\n",
        "    my_string = i_vector_string.replace(';',',')\n",
        "    # split to list\n",
        "    my_list = my_string.split(',')\n",
        "    # convert each element from string to double\n",
        "    my_list = [float(s) for s in my_list]\n",
        "    # convert list to array\n",
        "    my_array = np.array(my_list)\n",
        "    return my_array"
      ],
      "metadata": {
        "execution": {
          "iopub.status.busy": "2024-05-14T16:08:09.585442Z",
          "iopub.execute_input": "2024-05-14T16:08:09.585774Z",
          "iopub.status.idle": "2024-05-14T16:08:09.597087Z",
          "shell.execute_reply.started": "2024-05-14T16:08:09.585747Z",
          "shell.execute_reply": "2024-05-14T16:08:09.595714Z"
        },
        "trusted": true,
        "id": "7PO0VpUk3Re0"
      },
      "execution_count": null,
      "outputs": []
    },
    {
      "cell_type": "code",
      "source": [
        "# convert matrix (in string representation) to rotation vector\n",
        "def get_rotation_vector(i_matrix_string):\n",
        "    mat = get_rotation_matrix_from_string(i_matrix_string)\n",
        "    rot = R.from_matrix(mat)\n",
        "    vec = rot.as_rotvec()\n",
        "    return vec"
      ],
      "metadata": {
        "execution": {
          "iopub.status.busy": "2024-05-14T16:08:09.601612Z",
          "iopub.execute_input": "2024-05-14T16:08:09.602101Z",
          "iopub.status.idle": "2024-05-14T16:08:09.609456Z",
          "shell.execute_reply.started": "2024-05-14T16:08:09.602063Z",
          "shell.execute_reply": "2024-05-14T16:08:09.608347Z"
        },
        "trusted": true,
        "id": "Trkvifcf3Re1"
      },
      "execution_count": null,
      "outputs": []
    },
    {
      "cell_type": "code",
      "source": [
        "# convert matrix (in string representation) to Euler angles\n",
        "def get_rotation_angles(i_matrix_string):\n",
        "    mat = get_rotation_matrix_from_string(i_matrix_string)\n",
        "    rot = R.from_matrix(mat)\n",
        "    vec = rot.as_euler('zyx', degrees=True)\n",
        "    return vec"
      ],
      "metadata": {
        "execution": {
          "iopub.status.busy": "2024-05-14T16:08:09.611919Z",
          "iopub.execute_input": "2024-05-14T16:08:09.612557Z",
          "iopub.status.idle": "2024-05-14T16:08:09.622411Z",
          "shell.execute_reply.started": "2024-05-14T16:08:09.612517Z",
          "shell.execute_reply": "2024-05-14T16:08:09.621122Z"
        },
        "trusted": true,
        "id": "qkYusZ3v3Re1"
      },
      "execution_count": null,
      "outputs": []
    },
    {
      "cell_type": "code",
      "source": [
        "# convert matrix (in string representation) to quaternion\n",
        "def get_rotation_quaternion(i_matrix_string):\n",
        "    mat = get_rotation_matrix_from_string(i_matrix_string)\n",
        "    rot = R.from_matrix(mat)\n",
        "    vec = rot.as_quat()\n",
        "    return vec"
      ],
      "metadata": {
        "execution": {
          "iopub.status.busy": "2024-05-14T16:08:09.624305Z",
          "iopub.execute_input": "2024-05-14T16:08:09.625087Z",
          "iopub.status.idle": "2024-05-14T16:08:09.636691Z",
          "shell.execute_reply.started": "2024-05-14T16:08:09.625052Z",
          "shell.execute_reply": "2024-05-14T16:08:09.635794Z"
        },
        "trusted": true,
        "id": "pfrAEZz63Re1"
      },
      "execution_count": null,
      "outputs": []
    },
    {
      "cell_type": "code",
      "source": [
        "# example\n",
        "\n",
        "# matrix\n",
        "my_index = 7\n",
        "my_example_mat = df_train.rotation_matrix[my_index]\n",
        "print('Rotation matrix:')\n",
        "print(get_rotation_matrix_from_string(my_example_mat))\n",
        "print()\n",
        "print('Converted to rotation vector:')\n",
        "print(get_rotation_vector(my_example_mat))\n",
        "print()\n",
        "print('Converted to Euler angles:')\n",
        "print(get_rotation_angles(my_example_mat))\n",
        "print()\n",
        "print('Converted to quaternion:')\n",
        "print(get_rotation_quaternion(my_example_mat))\n",
        "\n",
        "# translation vector\n",
        "my_example_trans = df_train.translation_vector[my_index]\n",
        "print()\n",
        "print('Translation vector:')\n",
        "print(get_translation_from_string(my_example_trans))"
      ],
      "metadata": {
        "execution": {
          "iopub.status.busy": "2024-05-14T16:08:09.638166Z",
          "iopub.execute_input": "2024-05-14T16:08:09.638964Z",
          "iopub.status.idle": "2024-05-14T16:08:09.659314Z",
          "shell.execute_reply.started": "2024-05-14T16:08:09.638931Z",
          "shell.execute_reply": "2024-05-14T16:08:09.658312Z"
        },
        "trusted": true,
        "id": "ncMlji3C3Re1",
        "outputId": "71e64fda-3e9d-4900-f702-53edf7efb091"
      },
      "execution_count": null,
      "outputs": [
        {
          "name": "stdout",
          "text": "Rotation matrix:\n[[ 9.99852825e-01 -1.47506145e-02  8.76062629e-03]\n [ 1.71538633e-02  8.67663593e-01 -4.96855747e-01]\n [-2.72348910e-04  4.96932901e-01  8.67788925e-01]]\n\nConverted to rotation vector:\n[0.52004561 0.00472692 0.01669549]\n\nConverted to Euler angles:\n[ 0.84521104  0.50195333 29.79345392]\n\nConverted to quaternion:\n[0.25709935 0.00233689 0.00825389 0.9663469 ]\n\nTranslation vector:\n[-0.0112979  -0.00155502  0.38556162]\n",
          "output_type": "stream"
        }
      ]
    },
    {
      "cell_type": "code",
      "source": [
        "# component projection functions\n",
        "def get_rotation_vector_x(i_matrix_string):\n",
        "    vec = get_rotation_vector(i_matrix_string)\n",
        "    return vec[0]\n",
        "\n",
        "def get_rotation_vector_y(i_matrix_string):\n",
        "    vec = get_rotation_vector(i_matrix_string)\n",
        "    return vec[1]\n",
        "\n",
        "def get_rotation_vector_z(i_matrix_string):\n",
        "    vec = get_rotation_vector(i_matrix_string)\n",
        "    return vec[2]\n",
        "\n",
        "def get_rotation_angle_1(i_matrix_string):\n",
        "    vec = get_rotation_angles(i_matrix_string)\n",
        "    return vec[0]\n",
        "\n",
        "def get_rotation_angle_2(i_matrix_string):\n",
        "    vec = get_rotation_angles(i_matrix_string)\n",
        "    return vec[1]\n",
        "\n",
        "def get_rotation_angle_3(i_matrix_string):\n",
        "    vec = get_rotation_angles(i_matrix_string)\n",
        "    return vec[2]\n",
        "\n",
        "def get_translation_x(i_vector_string):\n",
        "    vec = get_translation_from_string(i_vector_string)\n",
        "    return vec[0]\n",
        "\n",
        "def get_translation_y(i_vector_string):\n",
        "    vec = get_translation_from_string(i_vector_string)\n",
        "    return vec[1]\n",
        "\n",
        "def get_translation_z(i_vector_string):\n",
        "    vec = get_translation_from_string(i_vector_string)\n",
        "    return vec[2]"
      ],
      "metadata": {
        "execution": {
          "iopub.status.busy": "2024-05-14T16:08:09.660652Z",
          "iopub.execute_input": "2024-05-14T16:08:09.661013Z",
          "iopub.status.idle": "2024-05-14T16:08:09.670785Z",
          "shell.execute_reply.started": "2024-05-14T16:08:09.660986Z",
          "shell.execute_reply": "2024-05-14T16:08:09.669825Z"
        },
        "trusted": true,
        "id": "bMsRnANA3Re1"
      },
      "execution_count": null,
      "outputs": []
    },
    {
      "cell_type": "code",
      "source": [
        "# add rotation vector components and norm to data frame\n",
        "df_train['rot_x'] = df_train.rotation_matrix.apply(get_rotation_vector_x)\n",
        "df_train['rot_y'] = df_train.rotation_matrix.apply(get_rotation_vector_y)\n",
        "df_train['rot_z'] = df_train.rotation_matrix.apply(get_rotation_vector_z)\n",
        "df_train['rot_norm'] = np.sqrt(df_train.rot_x**2 + df_train.rot_y**2 + df_train.rot_z**2)\n",
        "\n",
        "# add Euler angles (in degrees)\n",
        "df_train['angle_1'] = df_train.rotation_matrix.apply(get_rotation_angle_1)\n",
        "df_train['angle_2'] = df_train.rotation_matrix.apply(get_rotation_angle_2)\n",
        "df_train['angle_3'] = df_train.rotation_matrix.apply(get_rotation_angle_3)\n",
        "\n",
        "# add translation vector components\n",
        "df_train['trans_x'] = df_train.translation_vector.apply(get_translation_x)\n",
        "df_train['trans_y'] = df_train.translation_vector.apply(get_translation_y)\n",
        "df_train['trans_z'] = df_train.translation_vector.apply(get_translation_z)"
      ],
      "metadata": {
        "execution": {
          "iopub.status.busy": "2024-05-14T16:08:09.672078Z",
          "iopub.execute_input": "2024-05-14T16:08:09.672578Z"
        },
        "trusted": true,
        "id": "kYNeAZUd3Re2"
      },
      "execution_count": null,
      "outputs": []
    },
    {
      "cell_type": "markdown",
      "source": [
        "<a id='EDA'></a>\n",
        "# EDA of features"
      ],
      "metadata": {
        "id": "Ypzqrf8q3Re2"
      }
    },
    {
      "cell_type": "code",
      "source": [
        "# statistics\n",
        "features = ['rot_x','rot_y','rot_z','rot_norm',\n",
        "            'angle_1', 'angle_2', 'angle_3',\n",
        "            'trans_x', 'trans_y', 'trans_z']\n",
        "\n",
        "df_train[features].describe()"
      ],
      "metadata": {
        "trusted": true,
        "id": "ZvSSIQaQ3Re2"
      },
      "execution_count": null,
      "outputs": []
    },
    {
      "cell_type": "code",
      "source": [
        "# distributions\n",
        "for f in features:\n",
        "    plt.figure(figsize=(8,3))\n",
        "    df_train[f].plot(kind='hist', bins=50, color=default_color_1)\n",
        "    plt.title(f)\n",
        "    plt.grid()\n",
        "    plt.show()"
      ],
      "metadata": {
        "trusted": true,
        "id": "3Hvfl35S3Re2"
      },
      "execution_count": null,
      "outputs": []
    },
    {
      "cell_type": "markdown",
      "source": [
        "### Correlation of features"
      ],
      "metadata": {
        "id": "u62Nq_gK3Re2"
      }
    },
    {
      "cell_type": "code",
      "source": [
        "corr_pearson = df_train[features].corr(method='pearson')\n",
        "corr_spearman = df_train[features].corr(method='spearman')\n",
        "\n",
        "plt.figure(figsize=(15,5))\n",
        "ax1 = plt.subplot(1,2,1)\n",
        "sns.heatmap(corr_pearson, annot=True, cmap='RdYlGn', vmin=-1, vmax=+1,\n",
        "            fmt='.2f', linecolor='black', linewidths=0.5)\n",
        "plt.title('Pearson Correlation')\n",
        "\n",
        "ax2 = plt.subplot(1,2,2, sharex=ax1)\n",
        "sns.heatmap(corr_spearman, annot=True, cmap='RdYlGn', vmin=-1, vmax=+1,\n",
        "            fmt='.2f', linecolor='black', linewidths=0.5)\n",
        "plt.title('Spearman Correlation')\n",
        "plt.show()\n"
      ],
      "metadata": {
        "trusted": true,
        "id": "OHwIyJ3W3Re3"
      },
      "execution_count": null,
      "outputs": []
    },
    {
      "cell_type": "code",
      "source": [
        "# mean of features by dataset\n",
        "feature_means = df_train.groupby(by='dataset')[features].mean()\n",
        "feature_means"
      ],
      "metadata": {
        "trusted": true,
        "id": "KiryNDx-3Re3"
      },
      "execution_count": null,
      "outputs": []
    },
    {
      "cell_type": "markdown",
      "source": [
        "<a id='inter'></a>\n",
        "# Interactive Plots"
      ],
      "metadata": {
        "id": "cK73ELSA3Re3"
      }
    },
    {
      "cell_type": "code",
      "source": [
        "# interactive 3d plot of rotation vectors\n",
        "fig = px.scatter_3d(df_train,\n",
        "                    x='rot_x', y='rot_y', z='rot_z',\n",
        "                    color='dataset',\n",
        "                    hover_data=['image_name'],\n",
        "                    opacity=0.5)\n",
        "fig.update_traces(marker_size = 4)\n",
        "fig.update_layout(title='Rotation Vectors')\n",
        "fig.show()"
      ],
      "metadata": {
        "trusted": true,
        "id": "ZAZDcefH3Re3"
      },
      "execution_count": null,
      "outputs": []
    },
    {
      "cell_type": "code",
      "source": [
        "# interactive 3d plot of Euler angles\n",
        "fig = px.scatter_3d(df_train,\n",
        "                    x='angle_1', y='angle_2', z='angle_3',\n",
        "                    color='dataset',\n",
        "                    hover_data=['image_name'],\n",
        "                    opacity=0.5)\n",
        "fig.update_traces(marker_size = 4)\n",
        "fig.update_layout(title='Euler angles')\n",
        "fig.show()"
      ],
      "metadata": {
        "trusted": true,
        "id": "VqFaOw2k3Re3"
      },
      "execution_count": null,
      "outputs": []
    },
    {
      "cell_type": "code",
      "source": [
        "# interactive 3d plot of translation vectors\n",
        "fig = px.scatter_3d(df_train,\n",
        "                    x='trans_x', y='trans_y', z='trans_z',\n",
        "                    color='dataset',\n",
        "                    hover_data=['image_name'],\n",
        "                    opacity=0.5)\n",
        "fig.update_traces(marker_size = 4)\n",
        "fig.update_layout(title='Translation vectors')\n",
        "fig.show()"
      ],
      "metadata": {
        "trusted": true,
        "id": "InJOav4o3Re4"
      },
      "execution_count": null,
      "outputs": []
    }
  ]
}