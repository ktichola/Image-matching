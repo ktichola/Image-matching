{
  "metadata": {
    "kernelspec": {
      "language": "python",
      "display_name": "Python 3",
      "name": "python3"
    },
    "language_info": {
      "name": "python",
      "version": "3.10.13",
      "mimetype": "text/x-python",
      "codemirror_mode": {
        "name": "ipython",
        "version": 3
      },
      "pygments_lexer": "ipython3",
      "nbconvert_exporter": "python",
      "file_extension": ".py"
    },
    "kaggle": {
      "accelerator": "gpu",
      "dataSources": [
        {
          "sourceId": 71885,
          "databundleVersionId": 8143495,
          "sourceType": "competition"
        },
        {
          "sourceId": 7884485,
          "sourceType": "datasetVersion",
          "datasetId": 4628051
        },
        {
          "sourceId": 7884725,
          "sourceType": "datasetVersion",
          "datasetId": 4628331
        },
        {
          "sourceId": 4534,
          "sourceType": "modelInstanceVersion",
          "modelInstanceId": 3326
        },
        {
          "sourceId": 17191,
          "sourceType": "modelInstanceVersion",
          "modelInstanceId": 14317
        },
        {
          "sourceId": 17555,
          "sourceType": "modelInstanceVersion",
          "modelInstanceId": 14611
        }
      ],
      "dockerImageVersionId": 30665,
      "isInternetEnabled": false,
      "language": "python",
      "sourceType": "notebook",
      "isGpuEnabled": true
    },
    "colab": {
      "name": "📸 IMC - 🔬 embedding models ",
      "provenance": [],
      "include_colab_link": true
    }
  },
  "nbformat_minor": 0,
  "nbformat": 4,
  "cells": [
    {
      "cell_type": "markdown",
      "metadata": {
        "id": "view-in-github",
        "colab_type": "text"
      },
      "source": [
        "<a href=\"https://colab.research.google.com/github/ktichola/Image-matching/blob/main/%F0%9F%93%B8_IMC_%F0%9F%94%AC_embedding_models.ipynb\" target=\"_parent\"><img src=\"https://colab.research.google.com/assets/colab-badge.svg\" alt=\"Open In Colab\"/></a>"
      ]
    },
    {
      "source": [
        "\n",
        "# IMPORTANT: RUN THIS CELL IN ORDER TO IMPORT YOUR KAGGLE DATA SOURCES\n",
        "# TO THE CORRECT LOCATION (/kaggle/input) IN YOUR NOTEBOOK,\n",
        "# THEN FEEL FREE TO DELETE THIS CELL.\n",
        "# NOTE: THIS NOTEBOOK ENVIRONMENT DIFFERS FROM KAGGLE'S PYTHON\n",
        "# ENVIRONMENT SO THERE MAY BE MISSING LIBRARIES USED BY YOUR\n",
        "# NOTEBOOK.\n",
        "\n",
        "import os\n",
        "import sys\n",
        "from tempfile import NamedTemporaryFile\n",
        "from urllib.request import urlopen\n",
        "from urllib.parse import unquote, urlparse\n",
        "from urllib.error import HTTPError\n",
        "from zipfile import ZipFile\n",
        "import tarfile\n",
        "import shutil\n",
        "\n",
        "CHUNK_SIZE = 40960\n",
        "DATA_SOURCE_MAPPING = 'image-matching-challenge-2024:https%3A%2F%2Fstorage.googleapis.com%2Fkaggle-competitions-data%2Fkaggle-v2%2F71885%2F8143495%2Fbundle%2Farchive.zip%3FX-Goog-Algorithm%3DGOOG4-RSA-SHA256%26X-Goog-Credential%3Dgcp-kaggle-com%2540kaggle-161607.iam.gserviceaccount.com%252F20240514%252Fauto%252Fstorage%252Fgoog4_request%26X-Goog-Date%3D20240514T082514Z%26X-Goog-Expires%3D259200%26X-Goog-SignedHeaders%3Dhost%26X-Goog-Signature%3D06fcce9ec69803c642cf554ff30d0206a8dcb36895434a1247831837918d299e70f87c45304761b609113cf0c565b45226b09f254dea590568c190e33413d6014ab99adfa20fd184d48d6ebb4846516fa42ce727028508eee37df1ccfe798dd59c8ad20dc208d98a19d5b957367e987871d5bd242e693a189ab73cdb2d24ffc9d6463e542131b71051ca6d143d4bc9a72d1ab9d5ac790beadf3168befc67996b7318671168eb1f38cd745ec1e78638727365851ae1fe2b03af647d965c90db9a54ad3694a9c525b3506d6f3689efb089f9a06a683c54dd0465f4f28ee544acf2419599bebf7be453134f9d241335a832a0f599b2c90324e792d697541736dfee,imc2024-packages-lightglue-rerun-kornia:https%3A%2F%2Fstorage.googleapis.com%2Fkaggle-data-sets%2F4628051%2F7884485%2Fbundle%2Farchive.zip%3FX-Goog-Algorithm%3DGOOG4-RSA-SHA256%26X-Goog-Credential%3Dgcp-kaggle-com%2540kaggle-161607.iam.gserviceaccount.com%252F20240514%252Fauto%252Fstorage%252Fgoog4_request%26X-Goog-Date%3D20240514T082515Z%26X-Goog-Expires%3D259200%26X-Goog-SignedHeaders%3Dhost%26X-Goog-Signature%3D46a2cdb8cb0dce2eef4c14fc372ded6e61aa648c0c2f7a4a4cdd6563def0dca4a3b5b464e5fb7ebd38a35d9fe1d04aafba88ce1877538384eecbd526ea0917a548a1f37a4834f18098101c8bec2bda84ed2dd8d29338170a19043c5ff2bcd8c65810846a5ce8aee4ff5faf7c48116d0a205bc7a0da87249b5f62d03fce7675c87ef796130cee4836c29925bec9977c8e64f34a53fc82b9af2d83a8d25f074b6e868ce0a15edbbcdf1ec9396b71336150da5f6d283e887c00761eb5e917eb1a6a7d3ac227354636869eface784726a998bf3e0668d02ee3f48e10a9172e25807c6dcc890d91ffd93ed9d80c09f88393092e72af6e617f8263d503eee28051c45e,colmap-db-import:https%3A%2F%2Fstorage.googleapis.com%2Fkaggle-data-sets%2F4628331%2F7884725%2Fbundle%2Farchive.zip%3FX-Goog-Algorithm%3DGOOG4-RSA-SHA256%26X-Goog-Credential%3Dgcp-kaggle-com%2540kaggle-161607.iam.gserviceaccount.com%252F20240514%252Fauto%252Fstorage%252Fgoog4_request%26X-Goog-Date%3D20240514T082515Z%26X-Goog-Expires%3D259200%26X-Goog-SignedHeaders%3Dhost%26X-Goog-Signature%3D3132044fd32955016337e3985b8f88bf982610c19082ffc427c8df99f1d6055a767ff8128db11b8e42245ad5104a4ac526778094764c61842d60267350ace7060503ebf108bc6ac4a2679f37a94149f69748aa5aafdb8799da8404a02c86b6e283af031141e98b07a7cc1859faf83fa19efe32af691427ca597d120ca2bb182f62a6a7349b996aa593693840f6629a653f7f42a8e408c15f0c111945ba9be4ffbf1ccacbe3b646c71574c91b74c0a8a4e47b1d187ba0225fe04caa24fe149fe0c8964e5e5c668f59b5a46f0423123f3c974647c47c0196a0bb3a477ab6929b64a71b2f30263df08882dbc748799bb9cc05455a265d253ce42b915df4ec730b1e,dinov2/pytorch/base/1:https%3A%2F%2Fstorage.googleapis.com%2Fkaggle-models-data%2F3326%2F4534%2Fbundle%2Farchive.tar.gz%3FX-Goog-Algorithm%3DGOOG4-RSA-SHA256%26X-Goog-Credential%3Dgcp-kaggle-com%2540kaggle-161607.iam.gserviceaccount.com%252F20240514%252Fauto%252Fstorage%252Fgoog4_request%26X-Goog-Date%3D20240514T082515Z%26X-Goog-Expires%3D259200%26X-Goog-SignedHeaders%3Dhost%26X-Goog-Signature%3Daf5f1d686087242f49a98bc44bccd35071acb2f3ce7003afa441dfddc1d7049348dd8cb90a27e822c2b89884d86ce6ce384a7e60296637a94944c39ef0cef2b7b6fc58bf1f14e8f92832f5f7e66a741b6cd8b78ebdb56347bba0ee25d8a52caf4daf5fb5132d01f4121216ea14b1e5d7723e56c8a80115bc54e4fcdf75c0c1631e30aba4bcb2769c1112349ffda6a88b7b3cc9b692031f26a5d0fa06b11c735190515d8eed729aa59adf4342e4e49d57665d4f49bacfde6b43538ee7ae8b6d655648c1cde71ad0eaddf3e49d63f403d4149e3da29549c0f2e21f7e4598c33c92b28dfeae70b2d9cdee58121f07a2a3b30cf44dff7a7fb2bd7f6b0e273c8bb8a6,lightglue/pytorch/aliked/1:https%3A%2F%2Fstorage.googleapis.com%2Fkaggle-models-data%2F14317%2F17191%2Fbundle%2Farchive.tar.gz%3FX-Goog-Algorithm%3DGOOG4-RSA-SHA256%26X-Goog-Credential%3Dgcp-kaggle-com%2540kaggle-161607.iam.gserviceaccount.com%252F20240514%252Fauto%252Fstorage%252Fgoog4_request%26X-Goog-Date%3D20240514T082515Z%26X-Goog-Expires%3D259200%26X-Goog-SignedHeaders%3Dhost%26X-Goog-Signature%3Dabb256e37db35adf3fa959435059f7278e18a022e83c31fdfa372f779336b2e772f6265efe64a17068c65b7b93c4ed9f81b83ae35d424908e83345523fd9c6bd1f4c90b6cbaec8634dda72ed71bebb39edec5d790e467a1f9d11874a6d5b57879a61e6ac2de31d83f743a58f74e9406fef3f8f8ecf7a58807338164b420c98a7c32f30db2485b08fa8a7fbf25ac399f42ed85bc67e463e242854048662ecd30a167f078ea4f2979162ee82d8c1ed96308cb08b0e236401c808a42c565a462bdab64a679d60ec1125f2656027def80011828f602d7260289e26a9715b5eed4aacef62a82cd60d6db861b968fc55f8c5e11e5eb7a81d801d45129385e50072932c,aliked/pytorch/aliked-n16/1:https%3A%2F%2Fstorage.googleapis.com%2Fkaggle-models-data%2F14611%2F17555%2Fbundle%2Farchive.tar.gz%3FX-Goog-Algorithm%3DGOOG4-RSA-SHA256%26X-Goog-Credential%3Dgcp-kaggle-com%2540kaggle-161607.iam.gserviceaccount.com%252F20240514%252Fauto%252Fstorage%252Fgoog4_request%26X-Goog-Date%3D20240514T082515Z%26X-Goog-Expires%3D259200%26X-Goog-SignedHeaders%3Dhost%26X-Goog-Signature%3D0bce5bf86cfa325cbee62bf506f86885c045e805d1f236aca398967b7631d99b38ef04a992786540d84e5f3dc30d05865d0dece8e711ddf78f7f2aff5d3188e45cedee6d0be235871b2263fa8a55109c047da11457e7f4dae319b7ea7f42403258bfaaa04ce8dde7ff6089906bed4d942becfe05f6a5b26da03bd9337eb5d74bf7736f81e47ef4e60571b8e5077bf3b0a51feb3edb60e363e5d1906811f2bb31fc73c4d4a293302970bade00f811efdbbabd1610c083892e485c38ff0c7fec3689d4241bcfe3adf771ad1a6d26c8707dbad86f0f27822efb74c23436a4cade03fbaa63331e91c1bc94caf5c518f5deb4ad0eb8e3f5b6a19f33a53246fadfb71d'\n",
        "\n",
        "KAGGLE_INPUT_PATH='/kaggle/input'\n",
        "KAGGLE_WORKING_PATH='/kaggle/working'\n",
        "KAGGLE_SYMLINK='kaggle'\n",
        "\n",
        "!umount /kaggle/input/ 2> /dev/null\n",
        "shutil.rmtree('/kaggle/input', ignore_errors=True)\n",
        "os.makedirs(KAGGLE_INPUT_PATH, 0o777, exist_ok=True)\n",
        "os.makedirs(KAGGLE_WORKING_PATH, 0o777, exist_ok=True)\n",
        "\n",
        "try:\n",
        "  os.symlink(KAGGLE_INPUT_PATH, os.path.join(\"..\", 'input'), target_is_directory=True)\n",
        "except FileExistsError:\n",
        "  pass\n",
        "try:\n",
        "  os.symlink(KAGGLE_WORKING_PATH, os.path.join(\"..\", 'working'), target_is_directory=True)\n",
        "except FileExistsError:\n",
        "  pass\n",
        "\n",
        "for data_source_mapping in DATA_SOURCE_MAPPING.split(','):\n",
        "    directory, download_url_encoded = data_source_mapping.split(':')\n",
        "    download_url = unquote(download_url_encoded)\n",
        "    filename = urlparse(download_url).path\n",
        "    destination_path = os.path.join(KAGGLE_INPUT_PATH, directory)\n",
        "    try:\n",
        "        with urlopen(download_url) as fileres, NamedTemporaryFile() as tfile:\n",
        "            total_length = fileres.headers['content-length']\n",
        "            print(f'Downloading {directory}, {total_length} bytes compressed')\n",
        "            dl = 0\n",
        "            data = fileres.read(CHUNK_SIZE)\n",
        "            while len(data) > 0:\n",
        "                dl += len(data)\n",
        "                tfile.write(data)\n",
        "                done = int(50 * dl / int(total_length))\n",
        "                sys.stdout.write(f\"\\r[{'=' * done}{' ' * (50-done)}] {dl} bytes downloaded\")\n",
        "                sys.stdout.flush()\n",
        "                data = fileres.read(CHUNK_SIZE)\n",
        "            if filename.endswith('.zip'):\n",
        "              with ZipFile(tfile) as zfile:\n",
        "                zfile.extractall(destination_path)\n",
        "            else:\n",
        "              with tarfile.open(tfile.name) as tarfile:\n",
        "                tarfile.extractall(destination_path)\n",
        "            print(f'\\nDownloaded and uncompressed: {directory}')\n",
        "    except HTTPError as e:\n",
        "        print(f'Failed to load (likely expired) {download_url} to path {destination_path}')\n",
        "        continue\n",
        "    except OSError as e:\n",
        "        print(f'Failed to load {download_url} to path {destination_path}')\n",
        "        continue\n",
        "\n",
        "print('Data source import complete.')\n"
      ],
      "metadata": {
        "id": "wemjwFSdNLD4"
      },
      "cell_type": "code",
      "outputs": [],
      "execution_count": null
    },
    {
      "cell_type": "markdown",
      "source": [
        "# <center style=\"font-family: consolas; font-size: 32px; font-weight: bold;\"> 📸 Image Matching Challenge - 📊 Understanding the baseline</center>\n",
        "<p><center style=\"color:#949494; font-family: consolas; font-size: 20px;\">Reconstruct 3D scenes from 2D images over six different domains</center></p>\n",
        "\n",
        "***\n",
        "\n",
        "In this notebook I explain the baseline solution provided by the organizers in [this notebook](https://www.kaggle.com/code/oldufo/imc-2024-submission-example).\n",
        "\n",
        "I have made the code a bit easier to read, adding comments and type annotations to make it easier for you to understand what is going on.\n",
        "\n",
        "Hope you enjoy ❤️"
      ],
      "metadata": {
        "id": "yoG2jhKHNLD6"
      }
    },
    {
      "cell_type": "markdown",
      "source": [
        "# Structure from Motion"
      ],
      "metadata": {
        "id": "F4XDLXZpNLD7"
      }
    },
    {
      "cell_type": "markdown",
      "source": [
        "Structure from Motion (SfM) is the name given to the procedure of **reconstructing a 3D scene and simultaneously obtaining the camera poses of a camera w.r.t. the given scene**. This means that, as the name suggests, we are creating the entire rigid structure from a set of images with different view points (or equivalently a camera in motion).\n",
        "\n",
        "In this competition, the important aspect of SfM we are interested in is *obtaining the camera poses* of where each image was taken, described by a rotation matrix and translation vector from the origin. These are the objects that will be scored in our submission!"
      ],
      "metadata": {
        "id": "LfqQ4WZjNLD7"
      }
    },
    {
      "cell_type": "markdown",
      "source": [
        "<center><img src=\"https://external-content.duckduckgo.com/iu/?u=https%3A%2F%2Ftse1.mm.bing.net%2Fth%3Fid%3DOIP.ENP48SmZHwG3r3O0lUVcWAHaFf%26pid%3DApi&f=1&ipt=550bf79efa85e7af870dd2d0a16793af7f3f83a36c14a1f4a648659a384b5a98&ipo=images\" alt=\"Structure from motion structure: multiple cameras pointing toward an object in different positions and rotations that we need to find.\"></center>"
      ],
      "metadata": {
        "id": "e9s7R12-NLD7"
      }
    },
    {
      "cell_type": "markdown",
      "source": [
        "# Baseline solution steps\n",
        "In order to be able to estimate the camera poses, the solution provided by the organizers consists in the following steps:\n",
        "\n",
        "* [1. Find pairs of images that are similar](#1)\n",
        "* [2. Compute image keypoints](#2)\n",
        "* [3. Match keypoints between images](#3)\n",
        "* [4. Outlier detection with RANSAC](#4)\n",
        "* [5. Sparse reconstruction](#5)\n",
        "\n",
        "Let's understand how these steps are carried out"
      ],
      "metadata": {
        "id": "2cqIllYlNLD8"
      }
    },
    {
      "cell_type": "markdown",
      "source": [
        "# Installing & importing relevant packages and models"
      ],
      "metadata": {
        "id": "O6nnIwTkNLD8"
      }
    },
    {
      "cell_type": "code",
      "source": [
        "!pip install --no-index /kaggle/input/imc2024-packages-lightglue-rerun-kornia/* --no-deps\n",
        "!mkdir -p /root/.cache/torch/hub/checkpoints\n",
        "!cp /kaggle/input/aliked/pytorch/aliked-n16/1/* /root/.cache/torch/hub/checkpoints/\n",
        "!cp /kaggle/input/lightglue/pytorch/aliked/1/* /root/.cache/torch/hub/checkpoints/\n",
        "!cp /kaggle/input/lightglue/pytorch/aliked/1/aliked_lightglue.pth /root/.cache/torch/hub/checkpoints/aliked_lightglue_v0-1_arxiv-pth"
      ],
      "metadata": {
        "_uuid": "8f2839f25d086af736a60e9eeb907d3b93b6e0e5",
        "_cell_guid": "b1076dfc-b9ad-4769-8c92-a6c4dae69d19",
        "_kg_hide-input": true,
        "_kg_hide-output": true,
        "execution": {
          "iopub.status.busy": "2024-05-14T08:11:08.187033Z",
          "iopub.execute_input": "2024-05-14T08:11:08.187363Z",
          "iopub.status.idle": "2024-05-14T08:11:19.133205Z",
          "shell.execute_reply.started": "2024-05-14T08:11:08.187334Z",
          "shell.execute_reply": "2024-05-14T08:11:19.131711Z"
        },
        "trusted": true,
        "id": "hjd6OqwuNLD8",
        "outputId": "92124115-eabc-473a-e155-bbbde58fa772"
      },
      "execution_count": null,
      "outputs": [
        {
          "name": "stdout",
          "text": "Processing /kaggle/input/imc2024-packages-lightglue-rerun-kornia/kornia-0.7.2-py2.py3-none-any.whl\nProcessing /kaggle/input/imc2024-packages-lightglue-rerun-kornia/kornia_moons-0.2.9-py3-none-any.whl\nProcessing /kaggle/input/imc2024-packages-lightglue-rerun-kornia/kornia_rs-0.1.2-cp310-cp310-manylinux_2_17_x86_64.manylinux2014_x86_64.whl\nProcessing /kaggle/input/imc2024-packages-lightglue-rerun-kornia/lightglue-0.0-py3-none-any.whl\nProcessing /kaggle/input/imc2024-packages-lightglue-rerun-kornia/pycolmap-0.6.1-cp310-cp310-manylinux_2_17_x86_64.manylinux2014_x86_64.whl\nProcessing /kaggle/input/imc2024-packages-lightglue-rerun-kornia/rerun_sdk-0.15.0a2-cp38-abi3-manylinux_2_31_x86_64.whl\nInstalling collected packages: rerun-sdk, pycolmap, lightglue, kornia-rs, kornia-moons, kornia\n  Attempting uninstall: kornia\n    Found existing installation: kornia 0.7.1\n    Uninstalling kornia-0.7.1:\n      Successfully uninstalled kornia-0.7.1\nSuccessfully installed kornia-0.7.2 kornia-moons-0.2.9 kornia-rs-0.1.2 lightglue-0.0 pycolmap-0.6.1 rerun-sdk-0.15.0a2\n",
          "output_type": "stream"
        }
      ]
    },
    {
      "cell_type": "code",
      "source": [
        "# General utilities\n",
        "import matplotlib.pyplot as plt\n",
        "\n",
        "import os\n",
        "from tqdm import tqdm\n",
        "from pathlib import Path\n",
        "from time import time, sleep\n",
        "from fastprogress import progress_bar\n",
        "import gc\n",
        "import numpy as np\n",
        "import h5py\n",
        "from IPython.display import clear_output\n",
        "from collections import defaultdict\n",
        "from copy import deepcopy\n",
        "from typing import Any\n",
        "import itertools\n",
        "import pandas as pd\n",
        "\n",
        "# CV/MLe\n",
        "import cv2\n",
        "import torch\n",
        "from torch import Tensor as T\n",
        "import torch.nn.functional as F\n",
        "import kornia as K\n",
        "import kornia.feature as KF\n",
        "from PIL import Image\n",
        "from transformers import AutoImageProcessor, AutoModel\n",
        "\n",
        "import torch\n",
        "from lightglue import match_pair\n",
        "from lightglue import LightGlue, ALIKED\n",
        "from lightglue.utils import load_image, rbd\n",
        "\n",
        "# 3D reconstruction\n",
        "import pycolmap\n",
        "\n",
        "# Data importing into colmap\n",
        "import sys\n",
        "sys.path.append(\"/kaggle/input/colmap-db-import\")\n",
        "\n",
        "# Provided by organizers\n",
        "from database import *\n",
        "from h5_to_db import *\n",
        "\n",
        "def arr_to_str(a):\n",
        "    \"\"\"Returns ;-separated string representing the input\"\"\"\n",
        "    return \";\".join([str(x) for x in a.reshape(-1)])\n",
        "\n",
        "def load_torch_image(file_name: Path | str, device=torch.device(\"cpu\")):\n",
        "    \"\"\"Loads an image and adds batch dimension\"\"\"\n",
        "    img = K.io.load_image(file_name, K.io.ImageLoadType.RGB32, device=device)[None, ...]\n",
        "    return img\n",
        "\n",
        "device = K.utils.get_cuda_device_if_available(0)\n",
        "print(device)\n",
        "\n",
        "DEBUG = len([p for p in Path(\"/kaggle/input/image-matching-challenge-2024/test/\").iterdir() if p.is_dir()]) == 2\n",
        "print(\"DEBUG:\", DEBUG)"
      ],
      "metadata": {
        "_kg_hide-input": true,
        "_kg_hide-output": true,
        "execution": {
          "iopub.status.busy": "2024-05-14T08:11:19.135457Z",
          "iopub.execute_input": "2024-05-14T08:11:19.135801Z",
          "iopub.status.idle": "2024-05-14T08:11:37.690418Z",
          "shell.execute_reply.started": "2024-05-14T08:11:19.13577Z",
          "shell.execute_reply": "2024-05-14T08:11:37.689382Z"
        },
        "trusted": true,
        "id": "wPJ2rS7KNLD8",
        "outputId": "1a9f6a3a-86be-466a-8f2b-cdaf2ae03742"
      },
      "execution_count": null,
      "outputs": [
        {
          "name": "stderr",
          "text": "2024-05-14 08:11:28.857494: E external/local_xla/xla/stream_executor/cuda/cuda_dnn.cc:9261] Unable to register cuDNN factory: Attempting to register factory for plugin cuDNN when one has already been registered\n2024-05-14 08:11:28.857623: E external/local_xla/xla/stream_executor/cuda/cuda_fft.cc:607] Unable to register cuFFT factory: Attempting to register factory for plugin cuFFT when one has already been registered\n2024-05-14 08:11:28.998056: E external/local_xla/xla/stream_executor/cuda/cuda_blas.cc:1515] Unable to register cuBLAS factory: Attempting to register factory for plugin cuBLAS when one has already been registered\n",
          "output_type": "stream"
        },
        {
          "name": "stdout",
          "text": "cuda:0\nDEBUG: False\n",
          "output_type": "stream"
        }
      ]
    },
    {
      "cell_type": "markdown",
      "source": [
        "<a id=\"1\"></a>\n",
        "# Finding image pairs\n",
        "\n",
        "To find pairs of similar images, we use [DINOv2](https://arxiv.org/pdf/2304.07193.pdf) to obtain normalized image embeddings.\n",
        "\n",
        "<center><img src=\"https://www.labellerr.com/blog/content/images/2023/05/Dino-v2-20230419.jpg\" alt=\"DINOv2 example\"></center>\n",
        "Then, we calculate the distances between all the embeddings, and only keep those below a given distance threshold. For images with less than a set minimum number of pairs, the closest ones are kept instead."
      ],
      "metadata": {
        "id": "4qP_mYuwNLD9"
      }
    },
    {
      "cell_type": "markdown",
      "source": [
        "def embed_images(\n",
        "    paths: list[Path],\n",
        "    model_name: str,\n",
        "    device: torch.device = torch.device(\"cpu\"),\n",
        ") -> T:\n",
        "    \"\"\"Computes image embeddings.\n",
        "    \n",
        "    Returns a tensor of shape [len(filenames), output_dim]\n",
        "    \"\"\"\n",
        "    processor = AutoImageProcessor.from_pretrained(model_name)\n",
        "    model = AutoModel.from_pretrained(model_name).eval().to(device)\n",
        "    \n",
        "    embeddings = []\n",
        "    \n",
        "    for i, path in tqdm(enumerate(paths), desc=\"Global descriptors\"):\n",
        "        image = load_torch_image(path)\n",
        "        \n",
        "        with torch.inference_mode():\n",
        "            inputs = processor(images=image, return_tensors=\"pt\", do_rescale=False).to(device)\n",
        "            outputs = model(**inputs) # last_hidden_state and pooled\n",
        "            \n",
        "            # Max pooling over all the hidden states but the first (starting token)\n",
        "            # To obtain a tensor of shape [1, output_dim]\n",
        "            # We normalize so that distances are computed in a better fashion later\n",
        "            embedding = F.normalize(outputs.last_hidden_state[:,1:].max(dim=1)[0], dim=-1, p=2)\n",
        "            \n",
        "        embeddings.append(embedding.detach().cpu())\n",
        "    return torch.cat(embeddings, dim=0)"
      ],
      "metadata": {
        "execution": {
          "iopub.status.busy": "2024-04-30T21:33:38.767412Z",
          "iopub.execute_input": "2024-04-30T21:33:38.768127Z",
          "iopub.status.idle": "2024-04-30T21:33:38.776542Z",
          "shell.execute_reply.started": "2024-04-30T21:33:38.768096Z",
          "shell.execute_reply": "2024-04-30T21:33:38.775551Z"
        },
        "id": "Uicz_e34NLD9"
      }
    },
    {
      "cell_type": "code",
      "source": [
        "import torch\n",
        "from torch import nn\n",
        "\n",
        "class SiameseNetwork(nn.Module):\n",
        "    def __init__(self):\n",
        "        super(SiameseNetwork, self).__init__()\n",
        "        self.conv = nn.Sequential(\n",
        "            nn.Conv2d(1, 64, 10),  # Input is 105x105\n",
        "            nn.ReLU(inplace=True),\n",
        "            nn.MaxPool2d(2),\n",
        "            nn.Conv2d(64, 128, 7),\n",
        "            nn.ReLU(),\n",
        "            nn.MaxPool2d(2),\n",
        "            nn.Conv2d(128, 128, 4),\n",
        "            nn.ReLU(),\n",
        "            nn.MaxPool2d(2),\n",
        "            nn.Conv2d(128, 256, 4),\n",
        "            nn.ReLU(),\n",
        "        )\n",
        "        self.fc = nn.Sequential(\n",
        "            nn.Linear(256, 4096),\n",
        "            nn.Sigmoid()\n",
        "        )\n",
        "        self.out = nn.Linear(4096, 1)\n",
        "\n",
        "    def forward_one(self, x):\n",
        "        x = self.conv(x)\n",
        "        x = x.view(x.size()[0], -1)\n",
        "        x = self.fc(x)\n",
        "        return x\n",
        "\n",
        "    def forward(self, input1, input2):\n",
        "        output1 = self.forward_one(input1)\n",
        "        output2 = self.forward_one(input2)\n",
        "        diff = torch.abs(output1 - output2)\n",
        "        output = self.out(diff)\n",
        "        return output\n"
      ],
      "metadata": {
        "execution": {
          "iopub.status.busy": "2024-05-14T08:11:37.6919Z",
          "iopub.execute_input": "2024-05-14T08:11:37.692658Z",
          "iopub.status.idle": "2024-05-14T08:11:37.702837Z",
          "shell.execute_reply.started": "2024-05-14T08:11:37.692622Z",
          "shell.execute_reply": "2024-05-14T08:11:37.701722Z"
        },
        "trusted": true,
        "id": "zYF8Ur9UNLD9"
      },
      "execution_count": null,
      "outputs": []
    },
    {
      "cell_type": "code",
      "source": [
        "def embed_images_siamese(\n",
        "    paths: list[Path],\n",
        "    model_name: str,\n",
        "    device: torch.device = torch.device(\"cpu\"),\n",
        ") -> T:\n",
        "    \"\"\"Computes image embeddings using a Siamese Network.\n",
        "\n",
        "    Returns a tensor of shape [len(filenames), output_dim]\n",
        "    \"\"\"\n",
        "    model = model_name.eval().to(device)  # Ensure the model is in evaluation mode\n",
        "\n",
        "    embeddings = []\n",
        "\n",
        "    for i, path in tqdm(enumerate(paths), desc=\"Global descriptors\"):\n",
        "        image = load_torch_image(path)\n",
        "\n",
        "        with torch.inference_mode():\n",
        "            # Prepare the inputs for the model\n",
        "            inputs = image.to(device)\n",
        "\n",
        "            # Compute the embeddings\n",
        "            embedding = model.forward_one(inputs)\n",
        "\n",
        "        embeddings.append(embedding.detach().cpu())\n",
        "\n",
        "    return torch.cat(embeddings, dim=0)\n"
      ],
      "metadata": {
        "execution": {
          "iopub.status.busy": "2024-05-14T08:11:37.705604Z",
          "iopub.execute_input": "2024-05-14T08:11:37.706693Z",
          "iopub.status.idle": "2024-05-14T08:11:37.740288Z",
          "shell.execute_reply.started": "2024-05-14T08:11:37.706658Z",
          "shell.execute_reply": "2024-05-14T08:11:37.739359Z"
        },
        "trusted": true,
        "id": "ftjVF5itNLD-"
      },
      "execution_count": null,
      "outputs": []
    },
    {
      "cell_type": "code",
      "source": [
        "def get_pairs_exhaustive(lst: list[Any]) -> list[tuple[int, int]]:\n",
        "    \"\"\"Obtains all possible index pairs of a list\"\"\"\n",
        "    return list(itertools.combinations(range(len(lst)), 2))\n",
        "\n",
        "def get_image_pairs(\n",
        "    paths: list[Path],\n",
        "    model_name: str,\n",
        "    similarity_threshold: float = 0.6,\n",
        "    tolerance: int = 1000,\n",
        "    min_matches: int = 20,\n",
        "    exhaustive_if_less: int = 20,\n",
        "    p: float = 2.0,\n",
        "    device: torch.device = torch.device(\"cpu\"),\n",
        ") -> list[tuple[int, int]]:\n",
        "    \"\"\"Obtains pairs of similar images\"\"\"\n",
        "    if len(paths) <= exhaustive_if_less:\n",
        "        return get_pairs_exhaustive(paths)\n",
        "\n",
        "    matches = []\n",
        "\n",
        "    # Embed images and compute distances for filtering\n",
        "    embeddings = embed_images(paths, model_name)\n",
        "    distances = torch.cdist(embeddings, embeddings, p=p)\n",
        "\n",
        "    # Remove pairs above similarity threshold (if enough)\n",
        "    mask = distances <= similarity_threshold\n",
        "    image_indices = np.arange(len(paths))\n",
        "\n",
        "    for current_image_index in range(len(paths)):\n",
        "        mask_row = mask[current_image_index]\n",
        "        indices_to_match = image_indices[mask_row]\n",
        "\n",
        "        # We don't have enough matches below the threshold, we pick most similar ones\n",
        "        if len(indices_to_match) < min_matches:\n",
        "            indices_to_match = np.argsort(distances[current_image_index])[:min_matches]\n",
        "\n",
        "        for other_image_index in indices_to_match:\n",
        "            # Skip an image matching itself\n",
        "            if other_image_index == current_image_index:\n",
        "                continue\n",
        "\n",
        "            # We need to check if we are below a certain distance tolerance\n",
        "            # since for images that don't have enough matches, we picked\n",
        "            # the most similar ones (which could all still be very different\n",
        "            # to the image we are analyzing)\n",
        "            if distances[current_image_index, other_image_index] < tolerance:\n",
        "                # Add the pair in a sorted manner to avoid redundancy\n",
        "                matches.append(tuple(sorted((current_image_index, other_image_index.item()))))\n",
        "\n",
        "    return sorted(list(set(matches)))"
      ],
      "metadata": {
        "execution": {
          "iopub.status.busy": "2024-05-14T08:11:37.741822Z",
          "iopub.execute_input": "2024-05-14T08:11:37.742105Z",
          "iopub.status.idle": "2024-05-14T08:11:37.753113Z",
          "shell.execute_reply.started": "2024-05-14T08:11:37.742082Z",
          "shell.execute_reply": "2024-05-14T08:11:37.752235Z"
        },
        "trusted": true,
        "id": "5mMJZLpyNLD-"
      },
      "execution_count": null,
      "outputs": []
    },
    {
      "cell_type": "code",
      "source": [
        "if DEBUG:\n",
        "    images_list = list(Path(\"/kaggle/input/image-matching-challenge-2024/test/church/images/\").glob(\"*.png\"))[:10]\n",
        "    index_pairs = get_image_pairs(images_list, \"/kaggle/input/dinov2/pytorch/base/1\")\n",
        "    print(index_pairs)"
      ],
      "metadata": {
        "execution": {
          "iopub.status.busy": "2024-05-14T08:11:37.754187Z",
          "iopub.execute_input": "2024-05-14T08:11:37.754425Z",
          "iopub.status.idle": "2024-05-14T08:11:37.768487Z",
          "shell.execute_reply.started": "2024-05-14T08:11:37.754404Z",
          "shell.execute_reply": "2024-05-14T08:11:37.767667Z"
        },
        "trusted": true,
        "id": "Rj6QDQ53NLD-"
      },
      "execution_count": null,
      "outputs": []
    },
    {
      "cell_type": "markdown",
      "source": [
        "<a id=\"2\"></a>\n",
        "# Computing keypoints\n",
        "\n",
        "In order to be able to know the position of each camera, we must be able to relate images to each other. For this, we extract relevant keypoints and compare pairs of image keypoints against each other. There are many ways to extract relevant keypoints, the most traditional one being [SIFT](https://en.wikipedia.org/wiki/Scale-invariant_feature_transform). However, newer and improved methods exist now, one of which is [ALIKED](https://arxiv.org/abs/2304.03608), the keypoint extraction method used in the solution.\n",
        "\n",
        "<center><img src=\"https://www.catalyzex.com/_next/image?url=https%3A%2F%2Fd3i71xaburhd42.cloudfront.net%2Faf9fc17471b4c38211c3d9f5058c9c1f59501eea%2F3-Figure1-1.png&w=640&q=75\" alt=\"ALIKED architecture\"></center>\n",
        "\n",
        "\n",
        "Let's take a closer look at the keypoints that ALIKED extracts."
      ],
      "metadata": {
        "id": "YMMrObRINLD-"
      }
    },
    {
      "cell_type": "code",
      "source": [
        "if DEBUG:\n",
        "    dtype = torch.float32 # ALIKED has issues with float16\n",
        "\n",
        "    extractor = ALIKED(\n",
        "            max_num_keypoints=4096,\n",
        "            detection_threshold=0.01,\n",
        "            resize=1024\n",
        "        ).eval().to(device, dtype)\n",
        "\n",
        "    path = images_list[0]\n",
        "    image = load_torch_image(path, device=device).to(dtype)\n",
        "    features = extractor.extract(image)\n",
        "\n",
        "    fig, ax = plt.subplots(1, 2, figsize=(10, 20))\n",
        "    ax[0].imshow(image[0, ...].permute(1,2,0).cpu())\n",
        "    ax[1].imshow(image[0, ...].permute(1,2,0).cpu())\n",
        "    ax[1].scatter(features[\"keypoints\"][0, :, 0].cpu(), features[\"keypoints\"][0, :, 1].cpu(), s=0.5, c=\"red\")\n",
        "\n",
        "    del extractor"
      ],
      "metadata": {
        "execution": {
          "iopub.status.busy": "2024-05-14T08:11:37.769508Z",
          "iopub.execute_input": "2024-05-14T08:11:37.770075Z",
          "iopub.status.idle": "2024-05-14T08:11:37.779835Z",
          "shell.execute_reply.started": "2024-05-14T08:11:37.77005Z",
          "shell.execute_reply": "2024-05-14T08:11:37.779004Z"
        },
        "trusted": true,
        "id": "9gAyDH35NLD_"
      },
      "execution_count": null,
      "outputs": []
    },
    {
      "cell_type": "code",
      "source": [
        "def detect_keypoints(\n",
        "    paths: list[Path],\n",
        "    feature_dir: Path,\n",
        "    num_features: int = 4096,\n",
        "    resize_to: int = 1024,\n",
        "    device: torch.device = torch.device(\"cpu\"),\n",
        ") -> None:\n",
        "    \"\"\"Detects the keypoints in a list of images with ALIKED\n",
        "\n",
        "    Stores them in feature_dir/keypoints.h5 and feature_dir/descriptors.h5\n",
        "    to be used later with LightGlue\n",
        "    \"\"\"\n",
        "    dtype = torch.float32 # ALIKED has issues with float16\n",
        "\n",
        "    extractor = ALIKED(\n",
        "        max_num_keypoints=num_features,\n",
        "        detection_threshold=0.01,\n",
        "        resize=resize_to\n",
        "    ).eval().to(device, dtype)\n",
        "\n",
        "    feature_dir.mkdir(parents=True, exist_ok=True)\n",
        "\n",
        "    with h5py.File(feature_dir / \"keypoints.h5\", mode=\"w\") as f_keypoints, \\\n",
        "         h5py.File(feature_dir / \"descriptors.h5\", mode=\"w\") as f_descriptors:\n",
        "\n",
        "        for path in tqdm(paths, desc=\"Computing keypoints\"):\n",
        "            key = path.name\n",
        "\n",
        "            with torch.inference_mode():\n",
        "                image = load_torch_image(path, device=device).to(dtype)\n",
        "                features = extractor.extract(image)\n",
        "\n",
        "                f_keypoints[key] = features[\"keypoints\"].squeeze().detach().cpu().numpy()\n",
        "                f_descriptors[key] = features[\"descriptors\"].squeeze().detach().cpu().numpy()"
      ],
      "metadata": {
        "execution": {
          "iopub.status.busy": "2024-05-14T08:11:37.780951Z",
          "iopub.execute_input": "2024-05-14T08:11:37.781326Z",
          "iopub.status.idle": "2024-05-14T08:11:37.791261Z",
          "shell.execute_reply.started": "2024-05-14T08:11:37.7813Z",
          "shell.execute_reply": "2024-05-14T08:11:37.790129Z"
        },
        "trusted": true,
        "id": "9gBPl0IFNLD_"
      },
      "execution_count": null,
      "outputs": []
    },
    {
      "cell_type": "code",
      "source": [
        "if DEBUG:\n",
        "    feature_dir = Path(\"./sample_test_features\")\n",
        "    detect_keypoints(images_list, feature_dir)"
      ],
      "metadata": {
        "execution": {
          "iopub.status.busy": "2024-05-14T08:11:37.792552Z",
          "iopub.execute_input": "2024-05-14T08:11:37.792922Z",
          "iopub.status.idle": "2024-05-14T08:11:37.803814Z",
          "shell.execute_reply.started": "2024-05-14T08:11:37.792889Z",
          "shell.execute_reply": "2024-05-14T08:11:37.803009Z"
        },
        "trusted": true,
        "id": "re2VEtEeNLD_"
      },
      "execution_count": null,
      "outputs": []
    },
    {
      "cell_type": "markdown",
      "source": [
        "<a id=\"3\"></a>\n",
        "# Match and compute keypoint distances\n",
        "\n",
        "Now that we have the relevant image pairs and keypoints, we can go ahead and compare the keypoints of the images in a pair to find a good relationship between them. This is done with [LightGlue](https://arxiv.org/abs/2306.13643), which matches the keypoints and their descriptors between two images.\n",
        "\n",
        "<center><img src=\"https://external-content.duckduckgo.com/iu/?u=https%3A%2F%2Fraw.githubusercontent.com%2Fcvg%2Flightglue%2Fmaster%2Fassets%2Feasy_hard.jpg&f=1&nofb=1&ipt=60962b56b05d3e8f95a064ab2a6010e5a6cbd5f1d10379d90e660b2561a3bae9&ipo=images\" alt=\"LightGlue example\"></center>"
      ],
      "metadata": {
        "id": "nuIVQFucNLD_"
      }
    },
    {
      "cell_type": "code",
      "source": [
        "if DEBUG:\n",
        "    matcher_params = {\n",
        "        \"width_confidence\": -1,\n",
        "        \"depth_confidence\": -1,\n",
        "        \"mp\": True if 'cuda' in str(device) else False,\n",
        "    }\n",
        "    matcher = KF.LightGlueMatcher(\"aliked\", matcher_params).eval().to(device)\n",
        "\n",
        "    with h5py.File(feature_dir / \"keypoints.h5\", mode=\"r\") as f_keypoints, \\\n",
        "         h5py.File(feature_dir / \"descriptors.h5\", mode=\"r\") as f_descriptors:\n",
        "            idx1, idx2 = index_pairs[0]\n",
        "            key1, key2 = images_list[idx1].name, images_list[idx2].name\n",
        "\n",
        "            keypoints1 = torch.from_numpy(f_keypoints[key1][...]).to(device)\n",
        "            keypoints2 = torch.from_numpy(f_keypoints[key2][...]).to(device)\n",
        "            print(\"Keypoints:\", keypoints1.shape, keypoints2.shape)\n",
        "            descriptors1 = torch.from_numpy(f_descriptors[key1][...]).to(device)\n",
        "            descriptors2 = torch.from_numpy(f_descriptors[key2][...]).to(device)\n",
        "            print(\"Descriptors:\", descriptors1.shape, descriptors2.shape)\n",
        "\n",
        "            with torch.inference_mode():\n",
        "                distances, indices = matcher(\n",
        "                    descriptors1,\n",
        "                    descriptors2,\n",
        "                    KF.laf_from_center_scale_ori(keypoints1[None]),\n",
        "                    KF.laf_from_center_scale_ori(keypoints2[None]),\n",
        "                )\n",
        "    print(distances, indices)"
      ],
      "metadata": {
        "execution": {
          "iopub.status.busy": "2024-05-14T08:11:37.807978Z",
          "iopub.execute_input": "2024-05-14T08:11:37.808439Z",
          "iopub.status.idle": "2024-05-14T08:11:37.819068Z",
          "shell.execute_reply.started": "2024-05-14T08:11:37.80841Z",
          "shell.execute_reply": "2024-05-14T08:11:37.818137Z"
        },
        "trusted": true,
        "id": "GawsOkutNLD_"
      },
      "execution_count": null,
      "outputs": []
    },
    {
      "cell_type": "code",
      "source": [
        "def keypoint_distances(\n",
        "    paths: list[Path],\n",
        "    index_pairs: list[tuple[int, int]],\n",
        "    feature_dir: Path,\n",
        "    min_matches: int = 15,\n",
        "    verbose: bool = True,\n",
        "    device: torch.device = torch.device(\"cpu\"),\n",
        ") -> None:\n",
        "    \"\"\"Computes distances between keypoints of images.\n",
        "\n",
        "    Stores output at feature_dir/matches.h5\n",
        "    \"\"\"\n",
        "\n",
        "    matcher_params = {\n",
        "        \"width_confidence\": -1,\n",
        "        \"depth_confidence\": -1,\n",
        "        \"mp\": True if 'cuda' in str(device) else False,\n",
        "    }\n",
        "    matcher = KF.LightGlueMatcher(\"aliked\", matcher_params).eval().to(device)\n",
        "\n",
        "    with h5py.File(feature_dir / \"keypoints.h5\", mode=\"r\") as f_keypoints, \\\n",
        "         h5py.File(feature_dir / \"descriptors.h5\", mode=\"r\") as f_descriptors, \\\n",
        "         h5py.File(feature_dir / \"matches.h5\", mode=\"w\") as f_matches:\n",
        "\n",
        "            for idx1, idx2 in tqdm(index_pairs, desc=\"Computing keypoing distances\"):\n",
        "                key1, key2 = paths[idx1].name, paths[idx2].name\n",
        "\n",
        "                keypoints1 = torch.from_numpy(f_keypoints[key1][...]).to(device)\n",
        "                keypoints2 = torch.from_numpy(f_keypoints[key2][...]).to(device)\n",
        "                descriptors1 = torch.from_numpy(f_descriptors[key1][...]).to(device)\n",
        "                descriptors2 = torch.from_numpy(f_descriptors[key2][...]).to(device)\n",
        "\n",
        "                with torch.inference_mode():\n",
        "                    distances, indices = matcher(\n",
        "                        descriptors1,\n",
        "                        descriptors2,\n",
        "                        KF.laf_from_center_scale_ori(keypoints1[None]),\n",
        "                        KF.laf_from_center_scale_ori(keypoints2[None]),\n",
        "                    )\n",
        "\n",
        "                # We have matches to consider\n",
        "                n_matches = len(indices)\n",
        "                if n_matches:\n",
        "                    if verbose:\n",
        "                        print(f\"{key1}-{key2}: {n_matches} matches\")\n",
        "                    # Store the matches in the group of one image\n",
        "                    if n_matches >= min_matches:\n",
        "                        group  = f_matches.require_group(key1)\n",
        "                        group.create_dataset(key2, data=indices.detach().cpu().numpy().reshape(-1, 2))"
      ],
      "metadata": {
        "execution": {
          "iopub.status.busy": "2024-05-14T08:11:37.820477Z",
          "iopub.execute_input": "2024-05-14T08:11:37.820775Z",
          "iopub.status.idle": "2024-05-14T08:11:37.833717Z",
          "shell.execute_reply.started": "2024-05-14T08:11:37.820751Z",
          "shell.execute_reply": "2024-05-14T08:11:37.833001Z"
        },
        "trusted": true,
        "id": "og95YFM3NLD_"
      },
      "execution_count": null,
      "outputs": []
    },
    {
      "cell_type": "code",
      "source": [
        "if DEBUG:\n",
        "    keypoint_distances(images_list, index_pairs, feature_dir, verbose=False)"
      ],
      "metadata": {
        "execution": {
          "iopub.status.busy": "2024-05-14T08:11:37.834751Z",
          "iopub.execute_input": "2024-05-14T08:11:37.835473Z",
          "iopub.status.idle": "2024-05-14T08:11:37.847788Z",
          "shell.execute_reply.started": "2024-05-14T08:11:37.835447Z",
          "shell.execute_reply": "2024-05-14T08:11:37.847003Z"
        },
        "trusted": true,
        "id": "JVniEUiBNLEA"
      },
      "execution_count": null,
      "outputs": []
    },
    {
      "cell_type": "markdown",
      "source": [
        "<a id=\"4\"></a>\n",
        "# RANSAC\n",
        "Up to now, we have matched keypoints and their descriptors extracted from pairs of images. This is described by a [fundamental matrix](https://en.wikipedia.org/wiki/Fundamental_matrix_(computer_vision)) denoted as $F$. In epipolar geometry, with homogeneous image coordinates, $x$ and $x′$, of corresponding points in a stereo image pair, $Fx$ describes a line (an epipolar line) on which the corresponding point $x′$ on the other image must lie. That means, for all pairs of corresponding points, $x'Fx = 0$ holds. This is known as epipolar constraint or correspondance condition (or Longuet-Higgins equation), and is solved via the [eight-point algorithm](https://en.wikipedia.org/wiki/Eight-point_algorithm).\n",
        "\n",
        "<center><img src=\"https://cmsc426.github.io/assets/sfm/epipole1.png\" alt=\"Fundamental matrix\"></center>\n",
        "\n",
        "Since the keypoint correspondences are computed using feature descriptors, the data is bound to be noisy and (in general) contains several outliers. Thus, to remove these outliers, we use a [RANSAC](https://en.wikipedia.org/wiki/Random_sample_consensus) algorithm to find the best possible fundamental matrix. So, out of all possibilities, the $F$ matrix with maximum number of inliers is chosen.\n",
        "\n",
        "<center><img src=\"https://cmsc426.github.io/assets/sfm/ransac.png\" alt=\"RANSAC\"></center>"
      ],
      "metadata": {
        "id": "SqPqKgEaNLEA"
      }
    },
    {
      "cell_type": "code",
      "source": [
        "def import_into_colmap(\n",
        "    path: Path,\n",
        "    feature_dir: Path,\n",
        "    database_path: str = \"colmap.db\",\n",
        ") -> None:\n",
        "    \"\"\"Adds keypoints into colmap\"\"\"\n",
        "    db = COLMAPDatabase.connect(database_path)\n",
        "    db.create_tables()\n",
        "    single_camera = False\n",
        "    fname_to_id = add_keypoints(db, feature_dir, path, \"\", \"simple-pinhole\", single_camera)\n",
        "    add_matches(\n",
        "        db,\n",
        "        feature_dir,\n",
        "        fname_to_id,\n",
        "    )\n",
        "    db.commit()"
      ],
      "metadata": {
        "execution": {
          "iopub.status.busy": "2024-05-14T08:11:37.848795Z",
          "iopub.execute_input": "2024-05-14T08:11:37.849092Z",
          "iopub.status.idle": "2024-05-14T08:11:37.859367Z",
          "shell.execute_reply.started": "2024-05-14T08:11:37.849069Z",
          "shell.execute_reply": "2024-05-14T08:11:37.858548Z"
        },
        "trusted": true,
        "id": "mdzHoRJJNLEA"
      },
      "execution_count": null,
      "outputs": []
    },
    {
      "cell_type": "code",
      "source": [
        "if DEBUG:\n",
        "    database_path = \"colmap.db\"\n",
        "    images_dir = images_list[0].parent\n",
        "    import_into_colmap(\n",
        "        images_dir,\n",
        "        feature_dir,\n",
        "        database_path,\n",
        "    )\n",
        "\n",
        "    # This does RANSAC\n",
        "    pycolmap.match_exhaustive(database_path)"
      ],
      "metadata": {
        "execution": {
          "iopub.status.busy": "2024-05-14T08:11:37.860305Z",
          "iopub.execute_input": "2024-05-14T08:11:37.860545Z",
          "iopub.status.idle": "2024-05-14T08:11:37.872811Z",
          "shell.execute_reply.started": "2024-05-14T08:11:37.860524Z",
          "shell.execute_reply": "2024-05-14T08:11:37.871995Z"
        },
        "trusted": true,
        "id": "Q1s4dNKeNLEA"
      },
      "execution_count": null,
      "outputs": []
    },
    {
      "cell_type": "markdown",
      "source": [
        "<a id=\"5\"></a>\n",
        "# Sparse Reconstruction\n",
        "\n",
        "Now we have similar image pairs, with matched keypoint descriptors, without outliers! All that is left is to construct the scene and obtain the camera positions. We do this with pycolmap, which offers an incremental reconstruction algorithm that starts from two pairs of images and continually adds more and more images to the scene, resulting in a reconstructed scene with camera information. We can then use the camera rotation and translation as our submission!"
      ],
      "metadata": {
        "id": "vUdw-Y0wNLEA"
      }
    },
    {
      "cell_type": "code",
      "source": [
        "if DEBUG:\n",
        "    mapper_options = pycolmap.IncrementalPipelineOptions()\n",
        "    mapper_options.min_model_size = 3\n",
        "    mapper_options.max_num_models = 2\n",
        "\n",
        "    maps = pycolmap.incremental_mapping(\n",
        "        database_path=database_path,\n",
        "        image_path=images_dir,\n",
        "        output_path=Path.cwd() / \"incremental_pipeline_outputs\",\n",
        "        options=mapper_options,\n",
        "    )"
      ],
      "metadata": {
        "_kg_hide-output": true,
        "execution": {
          "iopub.status.busy": "2024-05-14T08:11:37.874003Z",
          "iopub.execute_input": "2024-05-14T08:11:37.874609Z",
          "iopub.status.idle": "2024-05-14T08:11:37.882308Z",
          "shell.execute_reply.started": "2024-05-14T08:11:37.874579Z",
          "shell.execute_reply": "2024-05-14T08:11:37.88139Z"
        },
        "trusted": true,
        "id": "oxQAtoUZNLEB"
      },
      "execution_count": null,
      "outputs": []
    },
    {
      "cell_type": "code",
      "source": [
        "if DEBUG:\n",
        "    print(maps[0].summary())\n",
        "    for k, im in maps[0].images.items():\n",
        "        print(\"Rotation\", im.cam_from_world.rotation.matrix(), \"Translation:\", im.cam_from_world.translation, sep=\"\\n\")\n",
        "        print()"
      ],
      "metadata": {
        "execution": {
          "iopub.status.busy": "2024-05-14T08:11:37.883322Z",
          "iopub.execute_input": "2024-05-14T08:11:37.883605Z",
          "iopub.status.idle": "2024-05-14T08:11:37.892066Z",
          "shell.execute_reply.started": "2024-05-14T08:11:37.883576Z",
          "shell.execute_reply": "2024-05-14T08:11:37.891189Z"
        },
        "trusted": true,
        "id": "SwRIcuXXNLEB"
      },
      "execution_count": null,
      "outputs": []
    },
    {
      "cell_type": "markdown",
      "source": [
        "# Running everything"
      ],
      "metadata": {
        "id": "WMl1232xNLEB"
      }
    },
    {
      "cell_type": "code",
      "source": [
        "def parse_sample_submission(\n",
        "    base_path: Path,\n",
        ") -> dict[dict[str, list[Path]]]:\n",
        "    \"\"\"Construct a dict describing the test data as\n",
        "\n",
        "    {\"dataset\": {\"scene\": [<image paths>]}}\n",
        "    \"\"\"\n",
        "    data_dict = {}\n",
        "    with open(base_path / \"sample_submission.csv\", \"r\") as f:\n",
        "        for i, l in enumerate(f):\n",
        "            # Skip header\n",
        "            if i == 0:\n",
        "                print(\"header:\", l)\n",
        "\n",
        "            if l and i > 0:\n",
        "                image_path, dataset, scene, _, _ = l.strip().split(',')\n",
        "                if dataset not in data_dict:\n",
        "                    data_dict[dataset] = {}\n",
        "                if scene not in data_dict[dataset]:\n",
        "                    data_dict[dataset][scene] = []\n",
        "                data_dict[dataset][scene].append(Path(base_path / image_path))\n",
        "\n",
        "    for dataset in data_dict:\n",
        "        for scene in data_dict[dataset]:\n",
        "            print(f\"{dataset} / {scene} -> {len(data_dict[dataset][scene])} images\")\n",
        "\n",
        "    return data_dict"
      ],
      "metadata": {
        "_kg_hide-input": true,
        "execution": {
          "iopub.status.busy": "2024-05-14T08:11:37.893164Z",
          "iopub.execute_input": "2024-05-14T08:11:37.893456Z",
          "iopub.status.idle": "2024-05-14T08:11:37.90368Z",
          "shell.execute_reply.started": "2024-05-14T08:11:37.893433Z",
          "shell.execute_reply": "2024-05-14T08:11:37.90278Z"
        },
        "trusted": true,
        "id": "bBItIpExNLEB"
      },
      "execution_count": null,
      "outputs": []
    },
    {
      "cell_type": "code",
      "source": [
        "def create_submission(\n",
        "    results: dict,\n",
        "    data_dict: dict[dict[str, list[Path]]],\n",
        "    base_path: Path,\n",
        ") -> None:\n",
        "    \"\"\"Prepares a submission file.\"\"\"\n",
        "\n",
        "    with open(\"submission.csv\", \"w\") as f:\n",
        "        f.write(\"image_path,dataset,scene,rotation_matrix,translation_vector\\n\")\n",
        "\n",
        "        for dataset in data_dict:\n",
        "            # Only write results for datasets with images that have results\n",
        "            if dataset in results:\n",
        "                res = results[dataset]\n",
        "            else:\n",
        "                res = {}\n",
        "\n",
        "            # Same for scenes\n",
        "            for scene in data_dict[dataset]:\n",
        "                if scene in res:\n",
        "                    scene_res = res[scene]\n",
        "                else:\n",
        "                    scene_res = {\"R\":{}, \"t\":{}}\n",
        "\n",
        "                # Write the row with rotation and translation matrices\n",
        "                for image in data_dict[dataset][scene]:\n",
        "                    if image in scene_res:\n",
        "                        print(image)\n",
        "                        R = scene_res[image][\"R\"].reshape(-1)\n",
        "                        T = scene_res[image][\"t\"].reshape(-1)\n",
        "                    else:\n",
        "                        R = np.eye(3).reshape(-1)\n",
        "                        T = np.zeros((3))\n",
        "                    image_path = str(image.relative_to(base_path))\n",
        "                    f.write(f\"{image_path},{dataset},{scene},{arr_to_str(R)},{arr_to_str(T)}\\n\")"
      ],
      "metadata": {
        "_kg_hide-input": true,
        "execution": {
          "iopub.status.busy": "2024-05-14T08:11:37.904687Z",
          "iopub.execute_input": "2024-05-14T08:11:37.905008Z",
          "iopub.status.idle": "2024-05-14T08:11:37.918144Z",
          "shell.execute_reply.started": "2024-05-14T08:11:37.904977Z",
          "shell.execute_reply": "2024-05-14T08:11:37.917304Z"
        },
        "trusted": true,
        "id": "aN8XrnHeNLEB"
      },
      "execution_count": null,
      "outputs": []
    },
    {
      "cell_type": "code",
      "source": [
        "class Config:\n",
        "    base_path: Path = Path(\"/kaggle/input/image-matching-challenge-2024\")\n",
        "    feature_dir: Path = Path.cwd() / \".feature_outputs\"\n",
        "\n",
        "    device: torch.device = K.utils.get_cuda_device_if_available(0)\n",
        "\n",
        "    pair_matching_args = {\n",
        "        #\"model_name\": \"/kaggle/input/dinov2/pytorch/base/1\",\n",
        "        \"model_name\": SiameseNetwork,\n",
        "        \"similarity_threshold\": 0.3,\n",
        "        \"tolerance\": 500,\n",
        "        \"min_matches\": 50,\n",
        "        \"exhaustive_if_less\": 50,\n",
        "        \"p\": 2.0,\n",
        "    }\n",
        "\n",
        "    keypoint_detection_args = {\n",
        "        \"num_features\": 4096,\n",
        "        \"resize_to\": 1024,\n",
        "    }\n",
        "\n",
        "    keypoint_distances_args = {\n",
        "        \"min_matches\": 15,\n",
        "        \"verbose\": False,\n",
        "    }\n",
        "\n",
        "    colmap_mapper_options = {\n",
        "        \"min_model_size\": 3, # By default colmap does not generate a reconstruction if less than 10 images are registered. Lower it to 3.\n",
        "        \"max_num_models\": 2,\n",
        "    }"
      ],
      "metadata": {
        "execution": {
          "iopub.status.busy": "2024-05-14T08:11:37.919166Z",
          "iopub.execute_input": "2024-05-14T08:11:37.921564Z",
          "iopub.status.idle": "2024-05-14T08:11:37.931865Z",
          "shell.execute_reply.started": "2024-05-14T08:11:37.921531Z",
          "shell.execute_reply": "2024-05-14T08:11:37.93101Z"
        },
        "trusted": true,
        "id": "_NxElsKoNLEC"
      },
      "execution_count": null,
      "outputs": []
    },
    {
      "cell_type": "code",
      "source": [
        "def run_from_config(config: Config) -> None:\n",
        "    results = {}\n",
        "\n",
        "    data_dict = parse_sample_submission(config.base_path)\n",
        "    datasets = list(data_dict.keys())\n",
        "\n",
        "    for dataset in datasets:\n",
        "        if dataset not in results:\n",
        "            results[dataset] = {}\n",
        "\n",
        "        for scene in data_dict[dataset]:\n",
        "            images_dir = data_dict[dataset][scene][0].parent\n",
        "            results[dataset][scene] = {}\n",
        "            image_paths = data_dict[dataset][scene]\n",
        "            print (f\"Got {len(image_paths)} images\")\n",
        "\n",
        "            try:\n",
        "                feature_dir = config.feature_dir / f\"{dataset}_{scene}\"\n",
        "                feature_dir.mkdir(parents=True, exist_ok=True)\n",
        "                database_path = feature_dir / \"colmap.db\"\n",
        "                if database_path.exists():\n",
        "                    database_path.unlink()\n",
        "\n",
        "                # 1. Get the pairs of images that are somewhat similar\n",
        "                index_pairs = get_image_pairs(\n",
        "                    image_paths,\n",
        "                    **config.pair_matching_args,\n",
        "                    device=config.device,\n",
        "                )\n",
        "                gc.collect()\n",
        "\n",
        "                # 2. Detect keypoints of all images\n",
        "                detect_keypoints(\n",
        "                    image_paths,\n",
        "                    feature_dir,\n",
        "                    **config.keypoint_detection_args,\n",
        "                    device=device,\n",
        "                )\n",
        "                gc.collect()\n",
        "\n",
        "                # 3. Match  keypoints of pairs of similar images\n",
        "                keypoint_distances(\n",
        "                    image_paths,\n",
        "                    index_pairs,\n",
        "                    feature_dir,\n",
        "                    **config.keypoint_distances_args,\n",
        "                    device=device,\n",
        "                )\n",
        "                gc.collect()\n",
        "\n",
        "                sleep(1)\n",
        "\n",
        "                # 4.1. Import keypoint distances of matches into colmap for RANSAC\n",
        "                import_into_colmap(\n",
        "                    images_dir,\n",
        "                    feature_dir,\n",
        "                    database_path,\n",
        "                )\n",
        "\n",
        "                output_path = feature_dir / \"colmap_rec_aliked\"\n",
        "                output_path.mkdir(parents=True, exist_ok=True)\n",
        "\n",
        "                # 4.2. Compute RANSAC (detect match outliers)\n",
        "                # By doing it exhaustively we guarantee we will find the best possible configuration\n",
        "                pycolmap.match_exhaustive(database_path)\n",
        "\n",
        "                mapper_options = pycolmap.IncrementalPipelineOptions(**config.colmap_mapper_options)\n",
        "\n",
        "                # 5.1 Incrementally start reconstructing the scene (sparse reconstruction)\n",
        "                # The process starts from a random pair of images and is incrementally extended by\n",
        "                # registering new images and triangulating new points.\n",
        "                maps = pycolmap.incremental_mapping(\n",
        "                    database_path=database_path,\n",
        "                    image_path=images_dir,\n",
        "                    output_path=output_path,\n",
        "                    options=mapper_options,\n",
        "                )\n",
        "\n",
        "                print(maps)\n",
        "                clear_output(wait=False)\n",
        "\n",
        "                # 5.2. Look for the best reconstruction: The incremental mapping offered by\n",
        "                # pycolmap attempts to reconstruct multiple models, we must pick the best one\n",
        "                images_registered  = 0\n",
        "                best_idx = None\n",
        "\n",
        "                print (\"Looking for the best reconstruction\")\n",
        "\n",
        "                if isinstance(maps, dict):\n",
        "                    for idx1, rec in maps.items():\n",
        "                        print(idx1, rec.summary())\n",
        "                        try:\n",
        "                            if len(rec.images) > images_registered:\n",
        "                                images_registered = len(rec.images)\n",
        "                                best_idx = idx1\n",
        "                        except Exception:\n",
        "                            continue\n",
        "\n",
        "                # Parse the reconstruction object to get the rotation matrix and translation vector\n",
        "                # obtained for each image in the reconstruction\n",
        "                if best_idx is not None:\n",
        "                    for k, im in maps[best_idx].images.items():\n",
        "                        key = config.base_path / \"test\" / scene / \"images\" / im.name\n",
        "                        results[dataset][scene][key] = {}\n",
        "                        results[dataset][scene][key][\"R\"] = deepcopy(im.cam_from_world.rotation.matrix())\n",
        "                        results[dataset][scene][key][\"t\"] = deepcopy(np.array(im.cam_from_world.translation))\n",
        "\n",
        "                print(f\"Registered: {dataset} / {scene} -> {len(results[dataset][scene])} images\")\n",
        "                print(f\"Total: {dataset} / {scene} -> {len(data_dict[dataset][scene])} images\")\n",
        "                create_submission(results, data_dict, config.base_path)\n",
        "                gc.collect()\n",
        "\n",
        "            except Exception as e:\n",
        "                print(e)"
      ],
      "metadata": {
        "execution": {
          "iopub.status.busy": "2024-05-14T08:11:37.932981Z",
          "iopub.execute_input": "2024-05-14T08:11:37.933424Z",
          "iopub.status.idle": "2024-05-14T08:11:37.953269Z",
          "shell.execute_reply.started": "2024-05-14T08:11:37.933399Z",
          "shell.execute_reply": "2024-05-14T08:11:37.952388Z"
        },
        "trusted": true,
        "id": "kIgpuaTONLEC"
      },
      "execution_count": null,
      "outputs": []
    },
    {
      "cell_type": "code",
      "source": [
        "pip install kornia_rs"
      ],
      "metadata": {
        "execution": {
          "iopub.status.busy": "2024-05-14T08:11:37.954436Z",
          "iopub.execute_input": "2024-05-14T08:11:37.954757Z",
          "iopub.status.idle": "2024-05-14T08:12:11.814159Z",
          "shell.execute_reply.started": "2024-05-14T08:11:37.954732Z",
          "shell.execute_reply": "2024-05-14T08:12:11.812899Z"
        },
        "trusted": true,
        "id": "cDDjXHJPNLEC",
        "outputId": "fe51d36c-a19a-41fa-fe67-9252576b65ea"
      },
      "execution_count": null,
      "outputs": [
        {
          "name": "stdout",
          "text": "Requirement already satisfied: kornia_rs in /opt/conda/lib/python3.10/site-packages (0.1.2)\nNote: you may need to restart the kernel to use updated packages.\n",
          "output_type": "stream"
        }
      ]
    },
    {
      "cell_type": "code",
      "source": [
        "run_from_config(Config)"
      ],
      "metadata": {
        "execution": {
          "iopub.status.busy": "2024-05-14T08:12:11.816087Z",
          "iopub.execute_input": "2024-05-14T08:12:11.816466Z",
          "iopub.status.idle": "2024-05-14T08:18:45.414279Z",
          "shell.execute_reply.started": "2024-05-14T08:12:11.816435Z",
          "shell.execute_reply": "2024-05-14T08:18:45.413255Z"
        },
        "trusted": true,
        "id": "JouvmCnhNLEC",
        "outputId": "cfe725e0-fed9-479d-c069-e07c486fef1d"
      },
      "execution_count": null,
      "outputs": [
        {
          "name": "stdout",
          "text": "Looking for the best reconstruction\n0 Reconstruction:\n\tnum_reg_images = 39\n\tnum_cameras = 39\n\tnum_points3D = 12272\n\tnum_observations = 64057\n\tmean_track_length = 5.21977\n\tmean_observations_per_image = 1642.49\n\tmean_reprojection_error = 0.917542\nRegistered: church / church -> 39 images\nTotal: church / church -> 41 images\n/kaggle/input/image-matching-challenge-2024/test/church/images/00046.png\n/kaggle/input/image-matching-challenge-2024/test/church/images/00090.png\n/kaggle/input/image-matching-challenge-2024/test/church/images/00092.png\n/kaggle/input/image-matching-challenge-2024/test/church/images/00087.png\n/kaggle/input/image-matching-challenge-2024/test/church/images/00050.png\n/kaggle/input/image-matching-challenge-2024/test/church/images/00068.png\n/kaggle/input/image-matching-challenge-2024/test/church/images/00083.png\n/kaggle/input/image-matching-challenge-2024/test/church/images/00096.png\n/kaggle/input/image-matching-challenge-2024/test/church/images/00069.png\n/kaggle/input/image-matching-challenge-2024/test/church/images/00081.png\n/kaggle/input/image-matching-challenge-2024/test/church/images/00042.png\n/kaggle/input/image-matching-challenge-2024/test/church/images/00018.png\n/kaggle/input/image-matching-challenge-2024/test/church/images/00030.png\n/kaggle/input/image-matching-challenge-2024/test/church/images/00024.png\n/kaggle/input/image-matching-challenge-2024/test/church/images/00032.png\n/kaggle/input/image-matching-challenge-2024/test/church/images/00026.png\n/kaggle/input/image-matching-challenge-2024/test/church/images/00037.png\n/kaggle/input/image-matching-challenge-2024/test/church/images/00008.png\n/kaggle/input/image-matching-challenge-2024/test/church/images/00035.png\n/kaggle/input/image-matching-challenge-2024/test/church/images/00021.png\n/kaggle/input/image-matching-challenge-2024/test/church/images/00010.png\n/kaggle/input/image-matching-challenge-2024/test/church/images/00039.png\n/kaggle/input/image-matching-challenge-2024/test/church/images/00011.png\n/kaggle/input/image-matching-challenge-2024/test/church/images/00013.png\n/kaggle/input/image-matching-challenge-2024/test/church/images/00006.png\n/kaggle/input/image-matching-challenge-2024/test/church/images/00012.png\n/kaggle/input/image-matching-challenge-2024/test/church/images/00029.png\n/kaggle/input/image-matching-challenge-2024/test/church/images/00001.png\n/kaggle/input/image-matching-challenge-2024/test/church/images/00072.png\n/kaggle/input/image-matching-challenge-2024/test/church/images/00066.png\n/kaggle/input/image-matching-challenge-2024/test/church/images/00058.png\n/kaggle/input/image-matching-challenge-2024/test/church/images/00059.png\n/kaggle/input/image-matching-challenge-2024/test/church/images/00111.png\n/kaggle/input/image-matching-challenge-2024/test/church/images/00061.png\n/kaggle/input/image-matching-challenge-2024/test/church/images/00060.png\n/kaggle/input/image-matching-challenge-2024/test/church/images/00074.png\n/kaggle/input/image-matching-challenge-2024/test/church/images/00102.png\n/kaggle/input/image-matching-challenge-2024/test/church/images/00076.png\n/kaggle/input/image-matching-challenge-2024/test/church/images/00063.png\n",
          "output_type": "stream"
        }
      ]
    },
    {
      "cell_type": "code",
      "source": [
        "!cat submission.csv"
      ],
      "metadata": {
        "execution": {
          "iopub.status.busy": "2024-05-14T08:18:45.416167Z",
          "iopub.execute_input": "2024-05-14T08:18:45.41658Z",
          "iopub.status.idle": "2024-05-14T08:18:46.464239Z",
          "shell.execute_reply.started": "2024-05-14T08:18:45.416544Z",
          "shell.execute_reply": "2024-05-14T08:18:46.463203Z"
        },
        "trusted": true,
        "id": "1j-q6C-jNLEC",
        "outputId": "48e286ba-cdb5-4b34-a88f-f846eca81cbe"
      },
      "execution_count": null,
      "outputs": [
        {
          "name": "stdout",
          "text": "image_path,dataset,scene,rotation_matrix,translation_vector\ntest/church/images/00046.png,church,church,-0.21690466812140108;-0.3371998997807847;-0.9161051208976916;0.364763157131349;0.8424756109801361;-0.396462714644413;0.905483409095228;-0.42015600970529415;-0.05973879277160754,5.697699368870222;4.9251341671707705;10.808752783232105\ntest/church/images/00090.png,church,church,0.9986412372713287;-0.0008034757720698652;-0.05210598476061607;-0.008707643705503733;0.9832509458692117;-0.18204876925812624;0.05137953057675653;0.18225512852587766;0.9819079447502846,0.08696374505307031;0.0009227027223757055;-0.7999998423419006\ntest/church/images/00092.png,church,church,0.9380301235839451;-0.12278149778025185;-0.32407436037416887;0.14377627579019;0.9887372382610254;0.04155786563171243;0.3153218510807519;-0.08557673444808611;0.9451183802848244,0.2765571583674682;-0.11001687379519819;-0.500368524522617\ntest/church/images/00087.png,church,church,0.8799698609372009;-0.16283043104610764;-0.4462502600195346;0.18252834977478613;0.9831998879344436;0.0011755399572028827;0.4385617919639795;-0.08248776328060081;0.8949074385311069,0.9802635700361909;-0.04990100363659484;-0.4850378531993209\ntest/church/images/00050.png,church,church,0.9379430793414735;0.17419721373315686;0.2998634866785873;-0.19595049556284502;0.9796340941893978;0.04382287975924777;-0.28612267160102833;-0.09986176560287173;0.9529750492885778,-2.7507574669889174;0.3329143494862011;0.5714418699755892\ntest/church/images/00068.png,church,church,0.5577712120567921;-0.2201337652441799;-0.8002702046184884;0.5298988744380614;0.8365565936638475;0.13921296084350737;0.6388258431450411;-0.5017112625773519;0.583255819630689,4.892789524653037;0.4029374422683539;0.4183623043915375\ntest/church/images/00083.png,church,church,0.9272961103581399;-0.1454591615243633;-0.34491093929200567;0.17750378958814692;0.9820989393135053;0.06304028934843721;0.32956688000542667;-0.11968001390339579;0.9365160788131572,1.578502760712352;-0.10419769922635765;-0.6771629592326777\ntest/church/images/00096.png,church,church,0.9474779734675071;0.09981984215284806;0.30384451435970744;-0.021714655535777123;0.9679313245505261;-0.25027469845916617;-0.31908300413664864;0.23053188514052564;0.9192611633288371,-1.015748148696171;0.029397763091165385;-1.2562439606284437\ntest/church/images/00069.png,church,church,0.5699668776638462;-0.2172819453775052;-0.7924180175760096;0.34005570385840145;0.9403120737995102;-0.013240926713472614;0.7479972437378986;-0.2619193770606353;0.6098347016041933,4.921028758605039;0.24238116257280956;0.7047280765923953\ntest/church/images/00081.png,church,church,0.8800311204628151;-0.130318954233505;-0.456686103559598;0.15400298437854373;0.9879589200247608;0.014840928071052945;0.4492530554369823;-0.08339150143146354;0.8895041032336737,1.6402289467680726;-0.010053051655166302;-0.3334665042955443\ntest/church/images/00042.png,church,church,0.7573979384832228;0.205110423745339;0.619901667083072;-0.2646134316920121;0.9643453029336109;0.004227112260063795;-0.5969322361453947;-0.16723591354996037;0.7846681175309527,-4.77843627709512;2.405994885045768;5.861143011279782\ntest/church/images/00018.png,church,church,0.9815855286641282;-0.059036969349897106;-0.18167136859489794;0.08595394995549913;0.9858295619233554;0.14405552167498775;0.17059240429811498;-0.15701818712488252;0.9727504924222881,0.3167074062820006;1.0660928840221715;2.360634118474737\ntest/church/images/00030.png,church,church,0.9561621427190986;0.07776584793455209;0.2823232716689189;-0.15006795264464762;0.9580010660119607;0.24436359612059808;-0.251462852962154;-0.27601889503250876;0.9276745135903902,-2.717398254973224;0.07609130229995978;0.33902687680141974\ntest/church/images/00024.png,church,church,0.8139922475285666;0.21585628057816286;0.539279785545828;-0.2315984121094924;0.9720097078653269;-0.039488014940277316;-0.5327089228384996;-0.09275340398348339;0.8412003385506465,-0.10783531687245211;0.4691474797053073;1.6693788012498632\ntest/church/images/00032.png,church,church,0.9792424800756074;0.08479733639802223;0.18410208297348002;-0.10394474301901926;0.9898453996805807;0.09696171992029311;-0.17401050432109988;-0.11408547879108881;0.9781129014152325,-1.006383290204458;0.4370155736995909;1.238394076247614\ntest/church/images/00026.png,church,church,0.9712520742831813;0.14068810309708055;0.19203193965474338;-0.17882392731813604;0.9636608133877929;0.19844354300227413;-0.1571350095272717;-0.2270786083886429;0.9611159630310703,-2.047666074481895;0.45285759418608224;0.6104692320673027\ntest/church/images/00037.png,church,church,-0.7714263286139817;0.20861486589029848;0.6011499457296205;-0.08634604587228766;0.9016738310312241;-0.42370822837855804;-0.6304330098300484;-0.3787666038116986;-0.6775618642999162,-0.7312581585774868;0.42051229281593766;3.513055443997282\ntest/church/images/00008.png,church,church,0.9998324869534909;-0.0004562230725618243;-0.01829726462905086;0.0004832832008472261;0.9999987961102197;0.0014745221120953588;0.018296569890152423;-0.001483117871020893;0.9998315037503246,-0.7277640000800306;1.2724934281127522;4.323046786704684\ntest/church/images/00035.png,church,church,-0.44098457286517556;0.22497353704977566;0.8688610441964999;-0.3544567039938684;0.8457252026465638;-0.39888510451285564;-0.8245562755135165;-0.48387579939044467;-0.29320838882190303,-0.8242059909464224;1.1529699622073757;3.324282702897073\ntest/church/images/00021.png,church,church,0.9763209229513647;0.13678433848642563;0.1675932580750974;-0.1488846117577125;0.9869189876439494;0.06184079729108744;-0.15694211604649172;-0.08532852144900374;0.9839147400248542,-1.710510770468377;0.6608543952391884;1.560785679651906\ntest/church/images/00010.png,church,church,0.9950925753772221;-0.018757423441571414;-0.09715413267052057;0.011870727850905857;0.9974068743634165;-0.07098318669156663;0.09823366148839845;0.06948155178487063;0.9927348395780965,-0.4733793757561284;0.882351564531143;4.117311604247777\ntest/church/images/00039.png,church,church,0.608081302449111;0.2545871253341009;0.7519458259914151;-0.34209179949131785;0.9387630523361549;-0.04119626547756208;-0.7163869976015651;-0.23218382196575324;0.6579364273885362,-1.9436432750675905;0.680793494431636;1.7745874168561337\ntest/church/images/00011.png,church,church,0.9998056240724339;0.012265044505702899;0.015436410087974025;-0.012429248664062361;0.9998667072436802;0.010586856158823023;-0.015304504264362279;-0.010776661308301013;0.9998248025130544,0.31385429925608205;1.0419119653764963;3.59115015045905\ntest/church/images/00013.png,church,church,0.995095229669001;0.020745362215120255;0.09672183743375402;-0.00898060176232486;0.9926704790840223;-0.12051833365544116;-0.09851310918849636;0.11905859860447367;0.9879879642062216,0.6194130057053769;0.5602380042120748;3.725193122856018\ntest/church/images/00006.png,church,church,0.9734384061635448;-0.07210292248238755;0.21729895990380682;0.08761716554393588;0.9941843449547084;-0.06261565737915649;-0.2115204522211126;0.07999160466246562;0.9740946778808002,0.19609413891633576;0.9556886708973131;4.570506104998782\ntest/church/images/00012.png,church,church,0.9982385364411379;0.006670959321939386;-0.058951867362959015;-0.010402266376537288;0.9979456689516921;-0.06321577868531927;0.058409050823365075;0.0637176594225238;0.9962572171179633,0.24687348653505417;0.45977070274938303;2.396421262383912\ntest/church/images/00029.png,church,church,0.9993013468380603;-0.0058260608103975695;0.03691713996333381;0.0054685243176808545;0.999937236867229;0.009778423600873986;-0.036971792618505285;-0.009569709596677729;0.9992704875101683,-0.8761538042210508;0.34917537920430614;1.5583112506357357\ntest/church/images/00001.png,church,church,0.9462960301348956;0.10525781800075401;0.30568711961850276;-0.12528060622485668;0.9910272403952533;0.046580881255096365;-0.2980412606584348;-0.08237597067281897;0.9509919065906091,1.1830243959252589;1.499506469510265;4.264736710371185\ntest/church/images/00098.png,church,church,1.0;0.0;0.0;0.0;1.0;0.0;0.0;0.0;1.0,0.0;0.0;0.0\ntest/church/images/00072.png,church,church,0.735757103853519;-0.1857283238615528;-0.6512806413863845;0.3269372924787002;0.9395906970120448;0.10139688789660492;0.5931049577568703;-0.28753141011722183;0.7520320453811946,3.493418219091783;0.36373120300491635;0.17932945214354953\ntest/church/images/00066.png,church,church,0.5250848360129771;-0.24871548906663266;-0.8138958904476485;0.34014940794706683;0.9379684544890536;-0.06718302357497757;0.7801181290435986;-0.2415694183495954;0.5771134384640105,4.886935209312049;0.432263214922713;0.9076613794817272\ntest/church/images/00104.png,church,church,1.0;0.0;0.0;0.0;1.0;0.0;0.0;0.0;1.0,0.0;0.0;0.0\ntest/church/images/00058.png,church,church,0.9754360122671877;-0.16649213786935574;-0.1442392249007817;0.06346334882802414;0.8394274692356338;-0.539753580116141;0.2109430949991475;0.5173411755508646;0.8293739318014705,0.524709651829577;0.30616641865729666;0.9076005268828522\ntest/church/images/00059.png,church,church,-0.1723184028670861;-0.2849930220324553;-0.9429132226383006;0.5587065666658835;0.7600857977640295;-0.3318381418731724;0.8112665039293547;-0.5839936279020751;0.028250702150834917,6.07283506619308;2.7586251016661283;4.215010106484153\ntest/church/images/00111.png,church,church,0.879862845065172;0.18788917493000065;0.4365077683363089;-0.2692104701672494;0.9539910347405275;0.13201071315247936;-0.3916211136112935;-0.2336637831988973;0.88996299911571,-3.557183239709376;0.8271094583983369;1.104488453204039\ntest/church/images/00061.png,church,church,0.14046440815689465;0.335584514132086;0.9314788156023008;-0.4449265208762555;0.86185456828251;-0.2434072598578756;-0.8844829795208522;-0.3802495719988389;0.27037034218385625,-5.729008132749776;2.2010192558689634;4.143538231606528\ntest/church/images/00060.png,church,church,0.9966133185199215;-0.027049797099263053;-0.07765437415624507;0.03905095583141717;0.9867534263587283;0.1574569732274896;0.07236654059274983;-0.15995619414764276;0.9844679272360474,0.361262165499007;0.0420338553171202;0.2262827974869249\ntest/church/images/00074.png,church,church,0.848502320481763;-0.16921629243727854;-0.5014076769564313;0.14599023424443508;0.9855787579433786;-0.08556496593841573;0.5086557417766151;-0.0005985520601386463;0.8609697893033836,3.5548063985626346;0.17219363177450228;0.2962526814143094\ntest/church/images/00102.png,church,church,0.9343702755194307;-0.18644852154437003;-0.3036266408595625;0.13245572340638884;0.972850022212352;-0.18978491936483402;0.330768301931478;0.13711230103584773;0.9336983170928508,-0.5752390144961335;0.4656182779877141;2.9595799012663555\ntest/church/images/00076.png,church,church,0.445509871007872;-0.2577794482685086;-0.8573626484078559;0.29697281370484474;0.9459804326609922;-0.1301082969788999;0.8445875340986139;-0.19664886745899482;0.497997108598351,4.667262375180537;1.2249432118771844;3.1295435000471783\ntest/church/images/00063.png,church,church,0.09198224330754612;-0.2227027646872519;-0.9705373488520503;0.2926460733642881;0.9376725107524284;-0.18742608762843227;0.9517865005664745;-0.2667840722005187;0.15142231063992284,0.3460030868912033;1.4008119665943914;0.7946004177836326\n",
          "output_type": "stream"
        }
      ]
    },
    {
      "cell_type": "markdown",
      "source": [
        "# What to do next?\n",
        "\n",
        "Here are some ways in which you can explore potential improvements:\n",
        "\n",
        "- Using a different image embedding model to obtain the image pairs\n",
        "- Trying other approaches for keypoint extraction, such as SIFT or DISK\n",
        "- Leveraging the training data to train a better models for each dataset"
      ],
      "metadata": {
        "_kg_hide-output": true,
        "id": "A79Nc-ciNLED"
      }
    }
  ]
}